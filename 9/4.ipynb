{
 "cells": [
  {
   "cell_type": "code",
   "execution_count": 352,
   "metadata": {},
   "outputs": [],
   "source": [
    "import numpy as np\n",
    "import pandas as pd\n",
    "import matplotlib.pyplot as plt\n",
    "from numpy.linalg import inv"
   ]
  },
  {
   "cell_type": "markdown",
   "metadata": {},
   "source": [
    "## Implementation"
   ]
  },
  {
   "cell_type": "code",
   "execution_count": 353,
   "metadata": {},
   "outputs": [],
   "source": [
    "def mean_squared_error(y_true, y_pred):\n",
    "    return np.mean((y_true - y_pred) ** 2)"
   ]
  },
  {
   "cell_type": "code",
   "execution_count": 354,
   "metadata": {},
   "outputs": [],
   "source": [
    "class Ridge:\n",
    "    def __init__(self, alpha=1.0):\n",
    "        self.alpha = alpha\n",
    "        self.coef_ = None\n",
    "\n",
    "    def fit(self, X, y):\n",
    "        # Add a column of ones for the bias term\n",
    "        X = np.c_[np.ones(X.shape[0]), X]\n",
    "\n",
    "        # Calculate the coefficients using the Ridge formula\n",
    "        n, m = X.shape\n",
    "        identity_matrix = np.identity(m)\n",
    "        self.coef_ = np.linalg.inv(X.T @ X + self.alpha * identity_matrix) @ X.T @ y\n",
    "\n",
    "    def predict(self, X):\n",
    "        # Add a column of ones for the bias term\n",
    "        X = np.c_[np.ones(X.shape[0]), X]\n",
    "\n",
    "        # Make predictions\n",
    "        return X @ self.coef_"
   ]
  },
  {
   "cell_type": "code",
   "execution_count": 355,
   "metadata": {},
   "outputs": [],
   "source": [
    "class PolynomialFeaturesCustom:\n",
    "    def __init__(self, degree=2):\n",
    "        self.degree = degree\n",
    "\n",
    "    def fit_transform(self, X):\n",
    "        n, m = X.shape\n",
    "        result = np.ones((n, 1))\n",
    "\n",
    "        for d in range(1, self.degree + 1):\n",
    "            result = np.concatenate([result, X ** d], axis=1)\n",
    "\n",
    "        return result"
   ]
  },
  {
   "cell_type": "code",
   "execution_count": 356,
   "metadata": {},
   "outputs": [],
   "source": [
    "class PolynomialFeatures:\n",
    "    def __init__(self, degree=2):\n",
    "        self.degree = degree\n",
    "\n",
    "    def fit_transform(self, X):\n",
    "        n, m = X.shape\n",
    "        result = np.ones((n, 1))\n",
    "\n",
    "        for d in range(1, self.degree + 1):\n",
    "            result = np.concatenate([result, X ** d], axis=1)\n",
    "\n",
    "        return result"
   ]
  },
  {
   "cell_type": "markdown",
   "metadata": {},
   "source": [
    "## Polynomial basis functions"
   ]
  },
  {
   "cell_type": "markdown",
   "metadata": {},
   "source": [
    "## 1"
   ]
  },
  {
   "cell_type": "code",
   "execution_count": 357,
   "metadata": {},
   "outputs": [],
   "source": [
    "# Load the Auto MPG dataset\n",
    "# Replace 'path/to/auto-mpg.data' with the actual path to your file\n",
    "file_path = 'auto-mpg.data'\n",
    "column_names = ['mpg', 'cylinders', 'displacement', 'horsepower', 'weight', 'acceleration', 'model year', 'origin', 'car name']\n",
    "df = pd.read_csv(file_path, delim_whitespace=True, names=column_names)\n",
    "\n",
    "# Drop non-numeric columns (if necessary)\n",
    "df = df.drop(columns=['car name'])\n",
    "\n",
    "# Replace '?' with NaN and convert columns to numeric\n",
    "df.replace('?', np.nan, inplace=True)\n",
    "df = df.apply(pd.to_numeric, errors='coerce')\n",
    "\n",
    "# Impute missing values with the mean of each column\n",
    "df.fillna(df.mean(), inplace=True)\n",
    "\n",
    "# Extract features (X) and target variable (y)\n",
    "X = df.drop(columns=['mpg'])\n",
    "y = df['mpg']\n",
    "\n",
    "# Print mean and standard deviation of normalized features and target\n",
    "# print(\"Mean of normalized features:\", np.mean(X_normalized, axis=0))\n",
    "# print(\"Standard deviation of normalized features:\", np.std(X_normalized, axis=0))\n",
    "# print(\"Mean of normalized target:\", np.mean(y_normalized))\n",
    "# print(\"Standard deviation of normalized target:\", np.std(y_normalized))"
   ]
  },
  {
   "cell_type": "code",
   "execution_count": 358,
   "metadata": {},
   "outputs": [],
   "source": [
    "\n",
    "def train_test_split(X, y, test_size=0.2, random_state=None):\n",
    "\n",
    "    if random_state is not None:\n",
    "        np.random.seed(random_state)\n",
    "\n",
    "    num_samples = len(X)\n",
    "    test_samples = int(test_size * num_samples)\n",
    "\n",
    "    # Shuffle indices\n",
    "    indices = np.random.permutation(num_samples)\n",
    "\n",
    "    # Split the indices into training and test sets\n",
    "    test_indices = indices[:test_samples]\n",
    "    train_indices = indices[test_samples:]\n",
    "\n",
    "    # Convert indices to integer values\n",
    "    train_indices = train_indices.astype(int)\n",
    "    test_indices = test_indices.astype(int)\n",
    "\n",
    "    # Split the data based on the indices\n",
    "    X_train, X_test = X.iloc[train_indices], X.iloc[test_indices]\n",
    "    y_train, y_test = y.iloc[train_indices], y.iloc[test_indices]\n",
    "\n",
    "    return X_train, X_test, y_train, y_test\n",
    "\n",
    "# Example usage:\n",
    "# X_train, X_test, y_train, y_test = train_test_split_custom(X, y, test_size=0.2, random_state=42)\n"
   ]
  },
  {
   "cell_type": "code",
   "execution_count": 359,
   "metadata": {},
   "outputs": [
    {
     "name": "stdout",
     "output_type": "stream",
     "text": [
      "      mpg  cylinders  displacement  horsepower  weight  acceleration  \\\n",
      "0    18.0          8         307.0       130.0  3504.0          12.0   \n",
      "1    15.0          8         350.0       165.0  3693.0          11.5   \n",
      "2    18.0          8         318.0       150.0  3436.0          11.0   \n",
      "3    16.0          8         304.0       150.0  3433.0          12.0   \n",
      "4    17.0          8         302.0       140.0  3449.0          10.5   \n",
      "..    ...        ...           ...         ...     ...           ...   \n",
      "393  27.0          4         140.0        86.0  2790.0          15.6   \n",
      "394  44.0          4          97.0        52.0  2130.0          24.6   \n",
      "395  32.0          4         135.0        84.0  2295.0          11.6   \n",
      "396  28.0          4         120.0        79.0  2625.0          18.6   \n",
      "397  31.0          4         119.0        82.0  2720.0          19.4   \n",
      "\n",
      "     model year  origin  \n",
      "0            70       1  \n",
      "1            70       1  \n",
      "2            70       1  \n",
      "3            70       1  \n",
      "4            70       1  \n",
      "..          ...     ...  \n",
      "393          82       1  \n",
      "394          82       2  \n",
      "395          82       1  \n",
      "396          82       1  \n",
      "397          82       1  \n",
      "\n",
      "[398 rows x 8 columns]\n"
     ]
    }
   ],
   "source": [
    "# Remove rows with NaN values\n",
    "df = df.dropna()\n",
    "print(df)"
   ]
  },
  {
   "cell_type": "code",
   "execution_count": 360,
   "metadata": {},
   "outputs": [],
   "source": [
    "\n",
    "# Split the data into training and testing sets\n",
    "X_train, X_test, y_train, y_test = train_test_split(X, y, test_size=0.2, random_state=42)\n"
   ]
  },
  {
   "cell_type": "code",
   "execution_count": 361,
   "metadata": {},
   "outputs": [
    {
     "name": "stderr",
     "output_type": "stream",
     "text": [
      "C:\\Users\\User\\AppData\\Local\\Temp\\ipykernel_8852\\3756573230.py:9: SettingWithCopyWarning: \n",
      "A value is trying to be set on a copy of a slice from a DataFrame.\n",
      "Try using .loc[row_indexer,col_indexer] = value instead\n",
      "\n",
      "See the caveats in the documentation: https://pandas.pydata.org/pandas-docs/stable/user_guide/indexing.html#returning-a-view-versus-a-copy\n",
      "  X_train.fillna(X_train.mean(), inplace=True)\n"
     ]
    },
    {
     "data": {
      "image/png": "[encoded data removed]",
      "text/plain": [
       "<Figure size 432x288 with 1 Axes>"
      ]
     },
     "metadata": {
      "needs_background": "light"
     },
     "output_type": "display_data"
    }
   ],
   "source": [
    "# Function to perform Ridge regression\n",
    "def ridge_regression(X, y, alpha=1.0):\n",
    "    X_with_bias = np.c_[np.ones(X.shape[0]), X]\n",
    "    identity_matrix = np.identity(X_with_bias.shape[1])\n",
    "    coefficients = np.linalg.inv(X_with_bias.T @ X_with_bias + alpha * identity_matrix) @ X_with_bias.T @ y\n",
    "    return coefficients\n",
    "\n",
    "# Impute NaN values in X_train with the mean of each column\n",
    "X_train.fillna(X_train.mean(), inplace=True)\n",
    "\n",
    "# Set the degrees of polynomials to try\n",
    "degrees = np.arange(1, 11)\n",
    "\n",
    "# Regularization parameter for Ridge regression\n",
    "alpha = 0.01\n",
    "\n",
    "# Initialize lists to store training and testing errors\n",
    "train_errors = []\n",
    "test_errors = []\n",
    "\n",
    "# Iterate over polynomial degrees\n",
    "for degree in degrees:\n",
    "    # Initialize lists to store features for each variable separately\n",
    "    X_train_poly_list = []\n",
    "    X_test_poly_list = []\n",
    "    \n",
    "    # Iterate over each input variable\n",
    "    for col in X_train.columns:\n",
    "        X_train_col = X_train[col].values.reshape(-1, 1)\n",
    "        X_test_col = X_test[col].values.reshape(-1, 1)\n",
    "        \n",
    "        # Create polynomial features\n",
    "        X_train_col_poly = X_train_col\n",
    "        X_test_col_poly = X_test_col\n",
    "\n",
    "        for d in range(2, degree + 1):\n",
    "            X_train_col_poly = np.c_[X_train_col_poly, X_train_col**d]\n",
    "            X_test_col_poly = np.c_[X_test_col_poly, X_test_col**d]\n",
    "\n",
    "        X_train_poly_list.append(X_train_col_poly)\n",
    "        X_test_poly_list.append(X_test_col_poly)\n",
    "    \n",
    "    # Concatenate features for each variable separately\n",
    "    X_train_poly = np.concatenate(X_train_poly_list, axis=1)\n",
    "    X_test_poly = np.concatenate(X_test_poly_list, axis=1)\n",
    "\n",
    "    # Perform Ridge regression\n",
    "    coefficients = ridge_regression(X_train_poly, y_train, alpha=alpha)\n",
    "\n",
    "    # Predictions on training and testing sets\n",
    "    X_train_poly_with_bias = np.c_[np.ones(X_train_poly.shape[0]), X_train_poly]\n",
    "    X_test_poly_with_bias = np.c_[np.ones(X_test_poly.shape[0]), X_test_poly]\n",
    "\n",
    "    y_train_pred = X_train_poly_with_bias @ coefficients\n",
    "    y_test_pred = X_test_poly_with_bias @ coefficients\n",
    "\n",
    "    # Calculate RMS error for training and testing sets\n",
    "    train_error = np.sqrt(mean_squared_error(y_train, y_train_pred))\n",
    "    test_error = np.sqrt(mean_squared_error(y_test, y_test_pred))\n",
    "\n",
    "    # Append errors to lists\n",
    "    train_errors.append(train_error)\n",
    "    test_errors.append(test_error)\n",
    "\n",
    "# Plot the training and testing errors versus polynomial degree\n",
    "plt.plot(degrees, train_errors, label='Training Error')\n",
    "plt.plot(degrees, test_errors, label='Test Error')\n",
    "plt.xlabel('Polynomial Degree')\n",
    "plt.ylabel('RMS Error')\n",
    "plt.legend()\n",
    "plt.show()"
   ]
  },
  {
   "cell_type": "markdown",
   "metadata": {},
   "source": [
    "## 2"
   ]
  },
  {
   "cell_type": "code",
   "execution_count": 362,
   "metadata": {},
   "outputs": [
    {
     "name": "stderr",
     "output_type": "stream",
     "text": [
      "C:\\Users\\User\\AppData\\Local\\Temp\\ipykernel_8852\\3840737111.py:27: SettingWithCopyWarning: \n",
      "A value is trying to be set on a copy of a slice from a DataFrame.\n",
      "Try using .loc[row_indexer,col_indexer] = value instead\n",
      "\n",
      "See the caveats in the documentation: https://pandas.pydata.org/pandas-docs/stable/user_guide/indexing.html#returning-a-view-versus-a-copy\n",
      "  X_train.fillna(X_train.mean(), inplace=True)\n"
     ]
    },
    {
     "data": {
      "image/png": "[encoded data removed]",
      "text/plain": [
       "<Figure size 432x288 with 1 Axes>"
      ]
     },
     "metadata": {
      "needs_background": "light"
     },
     "output_type": "display_data"
    }
   ],
   "source": [
    "# Replace 'path/to/auto-mpg.data' with the actual path to your file\n",
    "file_path = 'auto-mpg.data'\n",
    "column_names = ['mpg', 'cylinders', 'displacement', 'horsepower', 'weight', 'acceleration', 'model year', 'origin', 'car name']\n",
    "df = pd.read_csv(file_path, delim_whitespace=True, names=column_names)\n",
    "\n",
    "# Drop non-numeric columns (if necessary)\n",
    "df = df.drop(columns=['car name'])\n",
    "\n",
    "# Replace '?' with NaN and convert columns to numeric\n",
    "df.replace('?', np.nan, inplace=True)\n",
    "df = df.apply(pd.to_numeric, errors='coerce')\n",
    "\n",
    "# Impute missing values with the mean of each column\n",
    "df.fillna(df.mean(), inplace=True)\n",
    "\n",
    "# Extract features (X) and target variable (y)\n",
    "X = df[['horsepower']]  # Use only the third column as a feature\n",
    "y = df['mpg']\n",
    "\n",
    "# Split the data into training and testing sets\n",
    "np.random.seed(42)  # for reproducibility\n",
    "mask = np.random.rand(len(df)) < 0.8\n",
    "X_train, y_train = X[mask], y[mask]\n",
    "X_test, y_test = X[~mask], y[~mask]\n",
    "\n",
    "# Impute NaN values in X_train with the mean of the column\n",
    "X_train.fillna(X_train.mean(), inplace=True)\n",
    "\n",
    "# Set the degree of the polynomial\n",
    "degree = 3  # Change this to the desired degree\n",
    "\n",
    "# Create polynomial features\n",
    "X_train_poly = np.column_stack([X_train['horsepower'] ** i for i in range(1, degree + 1)])\n",
    "\n",
    "# Solve the normal equations to get the coefficients\n",
    "coefficients = np.linalg.inv(X_train_poly.T @ X_train_poly) @ X_train_poly.T @ y_train.values\n",
    "\n",
    "# Generate points for plotting the learned polynomial\n",
    "X_plot = np.linspace(X['horsepower'].min(), X['horsepower'].max(), 100)\n",
    "X_plot_poly = np.column_stack([X_plot ** i for i in range(1, degree + 1)])\n",
    "\n",
    "# Predictions on training and test sets\n",
    "y_train_pred = X_train_poly @ coefficients\n",
    "y_test_pred = X_plot_poly @ coefficients\n",
    "\n",
    "# Plotting\n",
    "plt.scatter(X_train, y_train, label='Training Data Points', color='blue')\n",
    "plt.scatter(X_test, y_test, label='Test Data Points', color='red')\n",
    "plt.plot(X_plot, y_test_pred, label=f'Degree {degree} Polynomial', color='green')\n",
    "plt.xlabel('Horsepower')\n",
    "plt.ylabel('MPG')\n",
    "plt.legend()\n",
    "plt.show()"
   ]
  },
  {
   "cell_type": "markdown",
   "metadata": {},
   "source": [
    "## 3\n"
   ]
  },
  {
   "cell_type": "code",
   "execution_count": 363,
   "metadata": {},
   "outputs": [
    {
     "name": "stderr",
     "output_type": "stream",
     "text": [
      "C:\\Users\\User\\AppData\\Local\\Temp\\ipykernel_8852\\2929396028.py:13: SettingWithCopyWarning: \n",
      "A value is trying to be set on a copy of a slice from a DataFrame.\n",
      "Try using .loc[row_indexer,col_indexer] = value instead\n",
      "\n",
      "See the caveats in the documentation: https://pandas.pydata.org/pandas-docs/stable/user_guide/indexing.html#returning-a-view-versus-a-copy\n",
      "  X_train.fillna(X_train.mean(), inplace=True)\n"
     ]
    },
    {
     "data": {
      "image/png": "[encoded data removed]",
      "text/plain": [
       "<Figure size 432x288 with 1 Axes>"
      ]
     },
     "metadata": {
      "needs_background": "light"
     },
     "output_type": "display_data"
    }
   ],
   "source": [
    "\n",
    "# Function to calculate the mean squared error\n",
    "def mean_squared_error(y_true, y_pred):\n",
    "    return np.mean((y_true - y_pred)**2)\n",
    "\n",
    "# Function to perform Ridge regression\n",
    "def ridge_regression(X, y, alpha=1.0):\n",
    "    X_with_bias = np.c_[np.ones(X.shape[0]), X]\n",
    "    identity_matrix = np.identity(X_with_bias.shape[1])\n",
    "    coefficients = np.linalg.inv(X_with_bias.T @ X_with_bias + alpha * identity_matrix) @ X_with_bias.T @ y\n",
    "    return coefficients\n",
    "\n",
    "# Impute NaN values in X_train with the mean of each column\n",
    "X_train.fillna(X_train.mean(), inplace=True)\n",
    "\n",
    "# Set the degrees of polynomials to try\n",
    "degrees = np.arange(1, 11)\n",
    "\n",
    "# Regularization parameter for Ridge regression\n",
    "alpha = 0.01\n",
    "\n",
    "# Initialize lists to store training and testing errors\n",
    "train_errors = []\n",
    "test_errors = []\n",
    "\n",
    "# Iterate over polynomial degrees\n",
    "for degree in degrees:\n",
    "    # Initialize lists to store features for each variable separately\n",
    "    X_train_poly_list = []\n",
    "    X_test_poly_list = []\n",
    "    \n",
    "    # Iterate over each input variable\n",
    "    for col in X_train.columns:\n",
    "        X_train_col = X_train[col].values.reshape(-1, 1)\n",
    "        X_test_col = X_test[col].values.reshape(-1, 1)\n",
    "        \n",
    "        # Create polynomial features\n",
    "        X_train_col_poly = X_train_col\n",
    "        X_test_col_poly = X_test_col\n",
    "\n",
    "        for d in range(2, degree + 1):\n",
    "            X_train_col_poly = np.c_[X_train_col_poly, X_train_col**d]\n",
    "            X_test_col_poly = np.c_[X_test_col_poly, X_test_col**d]\n",
    "\n",
    "        X_train_poly_list.append(X_train_col_poly)\n",
    "        X_test_poly_list.append(X_test_col_poly)\n",
    "    \n",
    "    # Concatenate features for each variable separately\n",
    "    X_train_poly = np.concatenate(X_train_poly_list, axis=1)\n",
    "    X_test_poly = np.concatenate(X_test_poly_list, axis=1)\n",
    "\n",
    "    # Perform Ridge regression\n",
    "    coefficients = ridge_regression(X_train_poly, y_train, alpha=alpha)\n",
    "\n",
    "    # Predictions on training and testing sets\n",
    "    X_train_poly_with_bias = np.c_[np.ones(X_train_poly.shape[0]), X_train_poly]\n",
    "    X_test_poly_with_bias = np.c_[np.ones(X_test_poly.shape[0]), X_test_poly]\n",
    "\n",
    "    y_train_pred = X_train_poly_with_bias @ coefficients\n",
    "    y_test_pred = X_test_poly_with_bias @ coefficients\n",
    "\n",
    "    # Calculate RMS error for training and testing sets\n",
    "    train_error = np.sqrt(mean_squared_error(y_train, y_train_pred))\n",
    "    test_error = np.sqrt(mean_squared_error(y_test, y_test_pred))\n",
    "\n",
    "    # Append errors to lists\n",
    "    train_errors.append(train_error)\n",
    "    test_errors.append(test_error)\n",
    "\n",
    "# Plot the training and testing errors versus polynomial degree\n",
    "plt.plot(degrees, train_errors, label='Training Error')\n",
    "plt.plot(degrees, test_errors, label='Test Error')\n",
    "plt.xlabel('Polynomial Degree')\n",
    "plt.ylabel('RMS Error')\n",
    "plt.legend()\n",
    "plt.show()\n"
   ]
  },
  {
   "cell_type": "markdown",
   "metadata": {},
   "source": [
    "## Gaussian basis functions\n"
   ]
  },
  {
   "cell_type": "markdown",
   "metadata": {},
   "source": [
    "## 1"
   ]
  },
  {
   "cell_type": "code",
   "execution_count": 364,
   "metadata": {},
   "outputs": [
    {
     "name": "stderr",
     "output_type": "stream",
     "text": [
      "C:\\Users\\User\\AppData\\Local\\Temp\\ipykernel_8852\\743709140.py:61: FutureWarning: The behavior of `series[i:j]` with an integer-dtype index is deprecated. In a future version, this will be treated as *label-based* indexing, consistent with e.g. `series[i]` lookups. To retain the old behavior, use `series.iloc[i:j]`. To get the future behavior, use `series.loc[i:j]`.\n",
      "  y_test = y_test[:len(y_test_pred)]\n"
     ]
    },
    {
     "data": {
      "image/png": "[encoded data removed]",
      "text/plain": [
       "<Figure size 432x288 with 1 Axes>"
      ]
     },
     "metadata": {
      "needs_background": "light"
     },
     "output_type": "display_data"
    }
   ],
   "source": [
    "\n",
    "# Load the Auto MPG dataset\n",
    "file_path = 'auto-mpg.data'\n",
    "column_names = ['mpg', 'cylinders', 'displacement', 'horsepower', 'weight', 'acceleration', 'model year', 'origin', 'car name']\n",
    "df = pd.read_csv(file_path, delim_whitespace=True, names=column_names)\n",
    "\n",
    "# Drop non-numeric columns (if necessary)\n",
    "df = df.drop(columns=['car name'])\n",
    "\n",
    "# Replace '?' with NaN and convert columns to numeric\n",
    "df.replace('?', np.nan, inplace=True)\n",
    "df = df.apply(pd.to_numeric, errors='coerce')\n",
    "\n",
    "# Impute missing values with the mean of each column\n",
    "df.fillna(df.mean(), inplace=True)\n",
    "\n",
    "# Extract features (X) and target variable (y)\n",
    "X = df[['horsepower']]  # Use only the third column as a feature\n",
    "y = df['mpg']\n",
    "\n",
    "# Take the first 100 points as training data\n",
    "X_train, X_test, y_train, y_test = X[:100], X[100:], y[:100], y[100:]\n",
    "\n",
    "# Set the bandwidth parameter for Gaussian basis functions\n",
    "s = 2\n",
    "\n",
    "# Set the number of basis functions to try\n",
    "num_basis_functions_list = list(range(5, 100, 10))\n",
    "\n",
    "# Initialize lists to store training and testing errors\n",
    "train_errors = []\n",
    "test_errors = []\n",
    "\n",
    "# Iterate over the number of basis functions\n",
    "for num_basis_functions in num_basis_functions_list:\n",
    "    # Randomly choose training data points as centers for Gaussian basis functions\n",
    "    centers = X_train.sample(n=num_basis_functions, random_state=42)\n",
    "\n",
    "    # Calculate Gaussian basis function values and handle NaN values\n",
    "    phi_train = np.exp(-(X_train - centers) ** 2 / (2 * s ** 2))\n",
    "    phi_train.fillna(0, inplace=True)  # Impute NaN values with 0\n",
    "    phi_test = np.exp(-(X_test - centers) ** 2 / (2 * s ** 2))\n",
    "    phi_test.fillna(0, inplace=True)  # Impute NaN values with 0\n",
    "\n",
    "    # Add a bias term to the basis functions\n",
    "    phi_train = np.concatenate([np.ones((len(X_train), 1)), phi_train], axis=1)\n",
    "    phi_test = np.exp(-(X_test.values - centers.values.reshape(1, -1)) ** 2 / (2 * s ** 2))\n",
    "    phi_test = np.concatenate([np.ones((len(X_test), 1)), phi_test], axis=1)\n",
    "\n",
    "    # Solve the normal equations to get the coefficients\n",
    "    coefficients = np.linalg.inv(phi_train.T @ phi_train) @ phi_train.T @ y_train.values\n",
    "\n",
    "    # Check the number of coefficients and add a bias term\n",
    "    num_coefficients = phi_train.shape[1]\n",
    "    if len(coefficients) != num_coefficients:\n",
    "        # Add a bias term if necessary\n",
    "        coefficients = np.concatenate([[0], coefficients])\n",
    "\n",
    "    # Predictions on training and test sets\n",
    "    y_train_pred = phi_train @ coefficients\n",
    "\n",
    "    y_test = y_test[:len(y_test_pred)]\n",
    "    # Calculate RMS error for training and testing sets\n",
    "    train_error = np.sqrt(np.mean((y_train - y_train_pred) ** 2))\n",
    "    test_error = np.sqrt(np.mean((y_test - y_test_pred) ** 2))\n",
    "\n",
    "    # Append errors to lists\n",
    "    train_errors.append(train_error)\n",
    "    test_errors.append(test_error)\n",
    "\n",
    "# Plot the training and testing errors versus the number of basis functions\n",
    "plt.plot(num_basis_functions_list, train_errors, label='Training Error')\n",
    "plt.plot(num_basis_functions_list, test_errors, label='Test Error')\n",
    "plt.xlabel('Number of Basis Functions')\n",
    "plt.ylabel('RMS Error')\n",
    "plt.legend()\n",
    "plt.show()"
   ]
  },
  {
   "cell_type": "markdown",
   "metadata": {},
   "source": [
    "## 2"
   ]
  },
  {
   "cell_type": "code",
   "execution_count": 365,
   "metadata": {},
   "outputs": [
    {
     "name": "stderr",
     "output_type": "stream",
     "text": [
      "C:\\Users\\User\\AppData\\Local\\Temp\\ipykernel_8852\\1715762967.py:24: SettingWithCopyWarning: \n",
      "A value is trying to be set on a copy of a slice from a DataFrame.\n",
      "Try using .loc[row_indexer,col_indexer] = value instead\n",
      "\n",
      "See the caveats in the documentation: https://pandas.pydata.org/pandas-docs/stable/user_guide/indexing.html#returning-a-view-versus-a-copy\n",
      "  X_train.fillna(X_train.mean(), inplace=True)\n"
     ]
    },
    {
     "data": {
      "image/png": "[encoded data removed]",
      "text/plain": [
       "<Figure size 432x288 with 1 Axes>"
      ]
     },
     "metadata": {
      "needs_background": "light"
     },
     "output_type": "display_data"
    }
   ],
   "source": [
    "\n",
    "# Load the Auto MPG dataset\n",
    "file_path = 'auto-mpg.data'\n",
    "column_names = ['mpg', 'cylinders', 'displacement', 'horsepower', 'weight', 'acceleration', 'model year', 'origin', 'car name']\n",
    "df = pd.read_csv(file_path, delim_whitespace=True, names=column_names)\n",
    "\n",
    "# Drop non-numeric columns (if necessary)\n",
    "df = df.drop(columns=['car name'])\n",
    "\n",
    "# Replace '?' with NaN and convert columns to numeric\n",
    "df.replace('?', np.nan, inplace=True)\n",
    "df = df.apply(pd.to_numeric, errors='coerce')\n",
    "\n",
    "# Impute missing values with the mean of each column\n",
    "df.fillna(df.mean(), inplace=True)\n",
    "\n",
    "# Extract features (X) and target variable (y)\n",
    "X = df.drop(columns=['mpg'])\n",
    "y = df['mpg']\n",
    "\n",
    "# Take the first 100 points\n",
    "X_train, X_test, y_train, y_test = X.iloc[:100, :], X.iloc[100:, :], y.iloc[:100], y.iloc[100:]\n",
    "\n",
    "# Impute NaN values in X_train with the mean of each column\n",
    "X_train.fillna(X_train.mean(), inplace=True)\n",
    "\n",
    "# Set the number of basis functions\n",
    "num_basis_functions = 5  # Reduce the degree\n",
    "\n",
    "# Set the regularization values to try\n",
    "alphas = [0, 0.01, 0.1, 1, 10, 100, 1000]\n",
    "\n",
    "# Initialize lists to store training and testing errors\n",
    "train_errors = []\n",
    "test_errors = []\n",
    "\n",
    "# Set the bandwidth parameter for Gaussian basis functions\n",
    "s = 2\n",
    "\n",
    "# Calculate Gaussian basis function values for training set\n",
    "phi_train = np.exp(-(X_train - X_train.mean(axis=0)) ** 2 / (2 * s ** 2))\n",
    "\n",
    "# Calculate Gaussian basis function values for test set\n",
    "phi_test = np.exp(-(X_test - X_train.mean(axis=0)) ** 2 / (2 * s ** 2))\n",
    "\n",
    "# Add a bias term to the basis functions\n",
    "phi_train = np.concatenate([np.ones((len(X_train), 1)), phi_train], axis=1)\n",
    "phi_test = np.concatenate([np.ones((len(X_test), 1)), phi_test], axis=1)\n",
    "\n",
    "# Iterate over regularization values\n",
    "for alpha in alphas:\n",
    "    # Solve the normal equations to get the coefficients\n",
    "    coefficients = inv(phi_train.T @ phi_train + alpha * np.identity(phi_train.shape[1])) @ phi_train.T @ y_train.values\n",
    "\n",
    "    # Predictions on training and test sets\n",
    "    y_train_pred = phi_train @ coefficients\n",
    "    y_test_pred = phi_test @ coefficients\n",
    "\n",
    "    # Calculate RMS error for training and testing sets\n",
    "    train_error = np.sqrt(np.mean((y_train - y_train_pred) ** 2))\n",
    "    test_error = np.sqrt(np.mean((y_test - y_test_pred) ** 2))\n",
    "\n",
    "    # Append errors to lists\n",
    "    train_errors.append(train_error)\n",
    "    test_errors.append(test_error)\n",
    "\n",
    "# Plot the training and testing errors versus regularizer value on a log scale\n",
    "plt.semilogx(alphas, train_errors, label='Training Error')\n",
    "plt.semilogx(alphas, test_errors, label='Test Error')\n",
    "plt.xlabel('Regularizer Value (log scale)')\n",
    "plt.ylabel('RMS Error')\n",
    "plt.legend()\n",
    "plt.show()"
   ]
  }
 ],
 "metadata": {
  "kernelspec": {
   "display_name": "Python 3",
   "language": "python",
   "name": "python3"
  },
  "language_info": {
   "codemirror_mode": {
    "name": "ipython",
    "version": 3
   },
   "file_extension": ".py",
   "mimetype": "text/x-python",
   "name": "python",
   "nbconvert_exporter": "python",
   "pygments_lexer": "ipython3",
   "version": "3.10.5"
  }
 },
 "nbformat": 4,
 "nbformat_minor": 2
}
