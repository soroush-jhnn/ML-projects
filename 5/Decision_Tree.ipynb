{
 "cells": [
  {
   "cell_type": "code",
   "execution_count": 69,
   "metadata": {},
   "outputs": [],
   "source": [
    "import pandas as pd\n",
    "import numpy as np\n",
    "from collections import Counter\n",
    "from sklearn.preprocessing import LabelEncoder\n",
    "from sklearn.metrics import precision_score, recall_score, f1_score\n",
    "from sklearn.model_selection import cross_val_score\n",
    "from sklearn.tree import DecisionTreeClassifier"
   ]
  },
  {
   "cell_type": "code",
   "execution_count": 70,
   "metadata": {},
   "outputs": [],
   "source": [
    "data = {\n",
    "    'Lesson': ['English Language 2', 'Physics 2', 'Discrete Mathematics', 'Electric and Electronic Circuits', 'Database Design', 'andishe 1', 'zaban omomi', 'tarbiat badani 2', 'zaban farsi', 'riazi omomi 2', 'mabani computer', 'moadelat difransiel', 'zaban takhasosi', 'kargah omomi', 'madar haye elektriki', 'moadelat', 'az fizik 2', 'amar o ehtemal', 'jabr khati', 'madar manteghi', 'memari computer', 'signals and systems', 'mohandesi narmafzar', 'system haye amel', 'ravesh haye pazhohesh'],\n",
    "    'Semester_Passed': ['Even', 'Odd', 'Even', 'Even', 'Odd', 'Odd','Odd','Even','Even','Odd','Odd','Odd','Even','Even','Even','Even','Odd','Odd','Odd','Odd','Even','Even','Odd','Odd','Even'],\n",
    "    'ECTS': [2, 3, 3, 3, 3, 2, 3, 1, 3, 3, 3, 3, 3, 1, 3, 3, 1, 3, 3, 3, 3, 3, 3, 3, 3],\n",
    "    'Specialized_or_General_or_Basic': ['General', 'General', 'Basic', 'Specialized', 'Specialized', 'General', 'General', 'General', 'General', 'General', 'Specialized', 'Specialized', 'Specialized', 'Specialized', 'Specialized', 'Specialized', 'Specialized', 'Specialized', 'Specialized', 'Specialized', 'Specialized', 'Specialized', 'Specialized', 'Specialized', 'Specialized' ],\n",
    "    'Instructor': ['hajari', 'salimi', 'ahmadi', 'mohammadi', 'bidki', 'sajadi', 'hajari', 'fotohi', 'salimi', 'motlagh', 'ranjbar', 'motlagh', 'mahmoodi', 'ranjbar', 'mahmoodi', 'sotoodeh', 'safi nia', 'motlagh', 'joozi', 'bidki', 'ahmadi', 'mohammadi', 'ahmadi', 'ahmadi', 'ranjbar'],\n",
    "    'Total_ECTS_in_Semester': [14, 17, 20, 14, 20, 5, 5, 14, 14, 17, 17, 17, 20, 20, 20, 20, 16, 16, 16, 16, 14, 14, 20, 20, 20],\n",
    "    'Days_for_Final_Test': [2, 1, 1, 2, 0, 1, 0, 0, 2, 2, 2, 1, 4, 1, 0, 2, 0, 2, 2, 1, 0, 1, 2, 2, 2],\n",
    "    'Nth_Test_of_Semester': [3, 2, 3, 3, 1, 2, 1, 0, 3, 2, 3, 4, 2, 3, 1, 4, 1, 2, 3, 4, 1, 2, 2, 3, 3],\n",
    "    'Homework': ['Yes', 'Yes', 'Yes', 'Yes', 'Yes', 'No', 'Yes', 'No', 'No', 'Yes', 'Yes', 'Yes', 'Yes', 'Yes', 'Yes', 'Yes', 'Yes', 'Yes', 'Yes', 'Yes', 'Yes', 'Yes', 'Yes', 'Yes', 'Yes'],\n",
    "    'Quiz': ['No', 'Yes', 'Yes', 'Yes', 'Yes', 'No', 'Yes', 'No', 'No', 'Yes', 'Yes', 'Yes', 'No', 'Yes', 'Yes', 'Yes', 'Yes', 'Yes', 'Yes', 'Yes', 'Yes', 'Yes', 'Yes', 'Yes', 'Yes'],\n",
    "    'Passed': ['Yes', 'Yes', 'Yes', 'Yes', 'Yes', 'Yes', 'Yes', 'Yes', 'Yes', 'Yes', 'Yes', 'No', 'Yes', 'Yes', 'No', 'Yes', 'Yes', 'Yes', 'Yes', 'Yes', 'Yes', 'Yes', 'Yes', 'Yes', 'Yes'],\n",
    "    'Conditionally_Passed': ['No', 'No', 'No', 'No', 'No', 'No', 'No', 'No', 'No', 'No', 'No', 'No', 'No', 'No', 'No', 'No', 'No', 'Yes', 'Yes', 'Yes', 'No', 'No', 'No', 'No', 'No'],\n",
    "    'Grade': ['A', 'A', 'A', 'A', 'B', 'A', 'B', 'A', 'A', 'C', 'B', 'C', 'A', 'B', 'C', 'B', 'B', 'C', 'B', 'C', 'A', 'B', 'B', 'B', 'A'],\n",
    "    'num_Grade_values': [19.83, 17.50, 17.10, 16, 12.50, 17.50, 15, 20, 19, 10, 12.94, 9, 20, 13, 9.9, 13.60, 15, 10, 15, 10, 16.20, 13.50, 15, 11.65, 19.33]\n",
    "}"
   ]
  },
  {
   "cell_type": "code",
   "execution_count": 71,
   "metadata": {},
   "outputs": [
    {
     "data": {
      "text/plain": [
       "(25, 14)"
      ]
     },
     "execution_count": 71,
     "metadata": {},
     "output_type": "execute_result"
    }
   ],
   "source": [
    "df = pd.DataFrame(data)\n",
    "(df.shape)"
   ]
  },
  {
   "cell_type": "markdown",
   "metadata": {},
   "source": [
    "## 1)"
   ]
  },
  {
   "cell_type": "markdown",
   "metadata": {},
   "source": [
    "چون تعداد کل درس ها به جای 30 درس،25 درس است از بین آن ها 20 داده ترین و 5 تست جدا می کنیم."
   ]
  },
  {
   "cell_type": "code",
   "execution_count": 72,
   "metadata": {},
   "outputs": [
    {
     "name": "stdout",
     "output_type": "stream",
     "text": [
      "Training data:\n",
      "{'Lesson': array(['English Language 2', 'Physics 2', 'Discrete Mathematics',\n",
      "       'Electric and Electronic Circuits', 'Database Design', 'andishe 1',\n",
      "       'zaban omomi', 'tarbiat badani 2', 'zaban farsi', 'riazi omomi 2',\n",
      "       'mabani computer', 'moadelat difransiel', 'zaban takhasosi',\n",
      "       'kargah omomi', 'madar haye elektriki', 'moadelat', 'az fizik 2',\n",
      "       'amar o ehtemal', 'jabr khati', 'madar manteghi'], dtype='<U32'), 'Semester_Passed': array(['Even', 'Odd', 'Even', 'Even', 'Odd', 'Odd', 'Odd', 'Even', 'Even',\n",
      "       'Odd', 'Odd', 'Odd', 'Even', 'Even', 'Even', 'Even', 'Odd', 'Odd',\n",
      "       'Odd', 'Odd'], dtype='<U4'), 'ECTS': array([2, 3, 3, 3, 3, 2, 3, 1, 3, 3, 3, 3, 3, 1, 3, 3, 1, 3, 3, 3]), 'Specialized_or_General_or_Basic': array(['General', 'General', 'Basic', 'Specialized', 'Specialized',\n",
      "       'General', 'General', 'General', 'General', 'General',\n",
      "       'Specialized', 'Specialized', 'Specialized', 'Specialized',\n",
      "       'Specialized', 'Specialized', 'Specialized', 'Specialized',\n",
      "       'Specialized', 'Specialized'], dtype='<U11'), 'Instructor': array(['hajari', 'salimi', 'ahmadi', 'mohammadi', 'bidki', 'sajadi',\n",
      "       'hajari', 'fotohi', 'salimi', 'motlagh', 'ranjbar', 'motlagh',\n",
      "       'mahmoodi', 'ranjbar', 'mahmoodi', 'sotoodeh', 'safi nia',\n",
      "       'motlagh', 'joozi', 'bidki'], dtype='<U9'), 'Total_ECTS_in_Semester': array([14, 17, 20, 14, 20,  5,  5, 14, 14, 17, 17, 17, 20, 20, 20, 20, 16,\n",
      "       16, 16, 16]), 'Days_for_Final_Test': array([2, 1, 1, 2, 0, 1, 0, 0, 2, 2, 2, 1, 4, 1, 0, 2, 0, 2, 2, 1]), 'Nth_Test_of_Semester': array([3, 2, 3, 3, 1, 2, 1, 0, 3, 2, 3, 4, 2, 3, 1, 4, 1, 2, 3, 4]), 'Homework': array(['Yes', 'Yes', 'Yes', 'Yes', 'Yes', 'No', 'Yes', 'No', 'No', 'Yes',\n",
      "       'Yes', 'Yes', 'Yes', 'Yes', 'Yes', 'Yes', 'Yes', 'Yes', 'Yes',\n",
      "       'Yes'], dtype='<U3'), 'Quiz': array(['No', 'Yes', 'Yes', 'Yes', 'Yes', 'No', 'Yes', 'No', 'No', 'Yes',\n",
      "       'Yes', 'Yes', 'No', 'Yes', 'Yes', 'Yes', 'Yes', 'Yes', 'Yes',\n",
      "       'Yes'], dtype='<U3'), 'Passed': array(['Yes', 'Yes', 'Yes', 'Yes', 'Yes', 'Yes', 'Yes', 'Yes', 'Yes',\n",
      "       'Yes', 'Yes', 'No', 'Yes', 'Yes', 'No', 'Yes', 'Yes', 'Yes', 'Yes',\n",
      "       'Yes'], dtype='<U3'), 'Conditionally_Passed': array(['No', 'No', 'No', 'No', 'No', 'No', 'No', 'No', 'No', 'No', 'No',\n",
      "       'No', 'No', 'No', 'No', 'No', 'No', 'Yes', 'Yes', 'Yes'],\n",
      "      dtype='<U3'), 'Grade': array(['A', 'A', 'A', 'A', 'B', 'A', 'B', 'A', 'A', 'C', 'B', 'C', 'A',\n",
      "       'B', 'C', 'B', 'B', 'C', 'B', 'C'], dtype='<U1'), 'num_Grade_values': array([19.83, 17.5 , 17.1 , 16.  , 12.5 , 17.5 , 15.  , 20.  , 19.  ,\n",
      "       10.  , 12.94,  9.  , 20.  , 13.  ,  9.9 , 13.6 , 15.  , 10.  ,\n",
      "       15.  , 10.  ])}\n",
      "\n",
      "Test data:\n",
      "{'Lesson': array(['memari computer', 'signals and systems', 'mohandesi narmafzar',\n",
      "       'system haye amel', 'ravesh haye pazhohesh'], dtype='<U32'), 'Semester_Passed': array(['Even', 'Even', 'Odd', 'Odd', 'Even'], dtype='<U4'), 'ECTS': array([3, 3, 3, 3, 3]), 'Specialized_or_General_or_Basic': array(['Specialized', 'Specialized', 'Specialized', 'Specialized',\n",
      "       'Specialized'], dtype='<U11'), 'Instructor': array(['ahmadi', 'mohammadi', 'ahmadi', 'ahmadi', 'ranjbar'], dtype='<U9'), 'Total_ECTS_in_Semester': array([14, 14, 20, 20, 20]), 'Days_for_Final_Test': array([0, 1, 2, 2, 2]), 'Nth_Test_of_Semester': array([1, 2, 2, 3, 3]), 'Homework': array(['Yes', 'Yes', 'Yes', 'Yes', 'Yes'], dtype='<U3'), 'Quiz': array(['Yes', 'Yes', 'Yes', 'Yes', 'Yes'], dtype='<U3'), 'Passed': array(['Yes', 'Yes', 'Yes', 'Yes', 'Yes'], dtype='<U3'), 'Conditionally_Passed': array(['No', 'No', 'No', 'No', 'No'], dtype='<U3'), 'Grade': array(['A', 'B', 'B', 'B', 'A'], dtype='<U1'), 'num_Grade_values': array([16.2 , 13.5 , 15.  , 11.65, 19.33])}\n"
     ]
    }
   ],
   "source": [
    "for key in data:\n",
    "    data[key] = np.array(data[key])\n",
    "\n",
    "train_indices = np.arange(20)  \n",
    "test_indices = np.arange(20, 25)  \n",
    "\n",
    "train_data = {key: data[key][train_indices] for key in data}\n",
    "test_data = {key: data[key][test_indices] for key in data}\n",
    "\n",
    "# Example usage:\n",
    "print(\"Training data:\")\n",
    "print(train_data)\n",
    "\n",
    "print(\"\\nTest data:\")\n",
    "print(test_data)"
   ]
  },
  {
   "cell_type": "markdown",
   "metadata": {},
   "source": [
    "## 2)"
   ]
  },
  {
   "cell_type": "code",
   "execution_count": 73,
   "metadata": {},
   "outputs": [],
   "source": [
    "# Define entropy function\n",
    "def entropy(labels):\n",
    "    label_counts = Counter(labels)\n",
    "    total_count = len(labels)\n",
    "    entropy = 0\n",
    "    for count in label_counts.values():\n",
    "        probability = count / total_count\n",
    "        entropy -= probability * np.log2(probability)\n",
    "    return entropy\n",
    "\n",
    "# Define information gain function\n",
    "def information_gain(data, labels, feature_index):\n",
    "    total_entropy = entropy(labels)\n",
    "    feature_values = data[:, feature_index]\n",
    "    unique_values, value_counts = np.unique(feature_values, return_counts=True)\n",
    "    weighted_entropy = 0\n",
    "    for value, count in zip(unique_values, value_counts):\n",
    "        subset_labels = labels[feature_values == value]\n",
    "        weighted_entropy += (count / len(labels)) * entropy(subset_labels)\n",
    "    return total_entropy - weighted_entropy\n",
    "\n",
    "# Define the ID3 algorithm\n",
    "def id3(data, labels, features, depth=0):\n",
    "    if len(set(labels)) == 1:\n",
    "        return labels[0]\n",
    "    \n",
    "    if features.size == 0:\n",
    "        return Counter(labels).most_common(1)[0][0]\n",
    "    \n",
    "    gains = [information_gain(data, labels, i) for i in features]\n",
    "    best_feature_index = features[np.argmax(gains)]\n",
    "    \n",
    "    tree = {best_feature_index: {}}\n",
    "    features = np.delete(features, np.argmax(gains))\n",
    "    \n",
    "    for value in np.unique(data[:, best_feature_index]):\n",
    "        subset_indices = np.where(data[:, best_feature_index] == value)\n",
    "        subset_data = data[subset_indices]\n",
    "        subset_labels = labels[subset_indices]\n",
    "        tree[best_feature_index][value] = id3(subset_data, subset_labels, features, depth + 1)\n",
    "    \n",
    "    return tree\n"
   ]
  },
  {
   "cell_type": "code",
   "execution_count": 74,
   "metadata": {},
   "outputs": [
    {
     "name": "stdout",
     "output_type": "stream",
     "text": [
      "{3: {0: 'Yes', 1: 'Yes', 2: 'Yes', 3: 'Yes', 4: 'Yes', 5: {5: {0: 'No', 3: 'Yes'}}, 6: 'Yes', 7: {5: {1: 'No', 2: 'Yes'}}, 8: 'Yes', 9: 'Yes', 10: 'Yes', 11: 'Yes', 12: 'Yes'}}\n"
     ]
    }
   ],
   "source": [
    "\n",
    "# Convert data to numpy arrays\n",
    "for key in data:\n",
    "    data[key] = np.array(data[key])\n",
    "\n",
    "# Select 20 entries for training\n",
    "train_indices = np.arange(20)\n",
    "train_data = {key: data[key][train_indices] for key in data}\n",
    "\n",
    "# Select 5 entries for testing\n",
    "test_indices = np.arange(20, 25)\n",
    "test_data = {key: data[key][test_indices] for key in data}\n",
    "\n",
    "# Prepare the data matrix and labels\n",
    "features = ['Semester_Passed', 'ECTS', 'Specialized_or_General_or_Basic', 'Instructor', 'Total_ECTS_in_Semester', 'Days_for_Final_Test', 'Nth_Test_of_Semester', 'Homework', 'Quiz']\n",
    "feature_indices = np.arange(len(features))\n",
    "\n",
    "# Encode categorical features to numeric\n",
    "encoders = {feature: LabelEncoder().fit(train_data[feature]) for feature in features}\n",
    "encoded_data = {feature: encoders[feature].transform(train_data[feature]) for feature in features}\n",
    "data_matrix = np.column_stack([encoded_data[feature] for feature in features])\n",
    "\n",
    "labels = train_data['Passed']\n",
    "\n",
    "# Build the decision tree using ID3\n",
    "tree = id3(data_matrix, labels, feature_indices)\n",
    "\n",
    "# Print the resulting tree\n",
    "print(tree)\n"
   ]
  },
  {
   "cell_type": "markdown",
   "metadata": {},
   "source": [
    "## 4)"
   ]
  },
  {
   "cell_type": "code",
   "execution_count": 75,
   "metadata": {},
   "outputs": [],
   "source": [
    "# Prediction function using the decision tree\n",
    "def predict(tree, sample):\n",
    "    if isinstance(tree, dict):\n",
    "        feature_index = list(tree.keys())[0]\n",
    "        feature_value = sample[feature_index]\n",
    "        subtree = tree[feature_index].get(feature_value, None)\n",
    "        if subtree is None:\n",
    "            return None\n",
    "        return predict(subtree, sample)\n",
    "    else:\n",
    "        return tree"
   ]
  },
  {
   "cell_type": "code",
   "execution_count": 76,
   "metadata": {},
   "outputs": [
    {
     "name": "stdout",
     "output_type": "stream",
     "text": [
      "Precision: 1.0\n",
      "Recall: 1.0\n",
      "F-Measure: 1.0\n"
     ]
    }
   ],
   "source": [
    "combined_data = {key: np.concatenate([train_data[key], test_data[key]]) for key in train_data}\n",
    "\n",
    "# Prepare the data matrix and labels\n",
    "features = ['Semester_Passed', 'ECTS', 'Specialized_or_General_or_Basic', 'Instructor', 'Total_ECTS_in_Semester', 'Days_for_Final_Test', 'Nth_Test_of_Semester', 'Homework', 'Quiz']\n",
    "encoders = {feature: LabelEncoder().fit(combined_data[feature]) for feature in features}\n",
    "\n",
    "encoded_data = {feature: encoders[feature].transform(combined_data[feature]) for feature in features}\n",
    "data_matrix = np.column_stack([encoded_data[feature] for feature in features])\n",
    "\n",
    "# Split the encoded data back into training and test sets\n",
    "data_matrix_train = data_matrix[:20]\n",
    "labels_train = combined_data['Passed'][:20]\n",
    "data_matrix_test = data_matrix[20:]\n",
    "labels_test = combined_data['Passed'][20:]\n",
    "\n",
    "# Build the decision tree using ID3\n",
    "feature_indices = np.arange(len(features))\n",
    "tree = id3(data_matrix_train, labels_train, feature_indices)\n",
    "\n",
    "# Predict using the decision tree\n",
    "predictions = np.array([predict(tree, sample) for sample in data_matrix_test])\n",
    "\n",
    "# Compute evaluation metrics\n",
    "precision = precision_score(labels_test, predictions, pos_label='Yes')\n",
    "recall = recall_score(labels_test, predictions, pos_label='Yes')\n",
    "f_measure = f1_score(labels_test, predictions, pos_label='Yes')\n",
    "\n",
    "print(\"Precision:\", precision)\n",
    "print(\"Recall:\", recall)\n",
    "print(\"F-Measure:\", f_measure)"
   ]
  },
  {
   "cell_type": "markdown",
   "metadata": {},
   "source": [
    "## 5)"
   ]
  },
  {
   "cell_type": "code",
   "execution_count": 77,
   "metadata": {},
   "outputs": [
    {
     "name": "stdout",
     "output_type": "stream",
     "text": [
      "Cross-Validation F1 Scores: [0.28571429 1.         0.375      0.375      0.44444444]\n",
      "Mean F1 Score: 0.49603174603174605\n"
     ]
    },
    {
     "name": "stderr",
     "output_type": "stream",
     "text": [
      "c:\\Users\\User\\AppData\\Local\\Programs\\Python\\Python310\\lib\\site-packages\\sklearn\\model_selection\\_split.py:700: UserWarning: The least populated class in y has only 2 members, which is less than n_splits=5.\n",
      "  warnings.warn(\n"
     ]
    }
   ],
   "source": [
    "data_matrix_full = data_matrix[:25]  # Use all 25 samples\n",
    "labels_full = combined_data['Passed'][:25]\n",
    "scores = cross_val_score(estimator=DecisionTreeClassifier(), X=data_matrix_full, y=labels_full, cv=5, scoring='f1_macro')\n",
    "print(\"Cross-Validation F1 Scores:\", scores)\n",
    "print(\"Mean F1 Score:\", scores.mean())\n"
   ]
  },
  {
   "cell_type": "code",
   "execution_count": 78,
   "metadata": {},
   "outputs": [
    {
     "name": "stdout",
     "output_type": "stream",
     "text": [
      "Tree Depth: 5\n"
     ]
    }
   ],
   "source": [
    "clf = DecisionTreeClassifier()\n",
    "clf.fit(data_matrix_train, labels_train)\n",
    "print(\"Tree Depth:\", clf.get_depth())"
   ]
  },
  {
   "cell_type": "markdown",
   "metadata": {},
   "source": [
    "overfitt"
   ]
  }
 ],
 "metadata": {
  "kernelspec": {
   "display_name": "Python 3",
   "language": "python",
   "name": "python3"
  },
  "language_info": {
   "codemirror_mode": {
    "name": "ipython",
    "version": 3
   },
   "file_extension": ".py",
   "mimetype": "text/x-python",
   "name": "python",
   "nbconvert_exporter": "python",
   "pygments_lexer": "ipython3",
   "version": "3.10.5"
  }
 },
 "nbformat": 4,
 "nbformat_minor": 2
}
