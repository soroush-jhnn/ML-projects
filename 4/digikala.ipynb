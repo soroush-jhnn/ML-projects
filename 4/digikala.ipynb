{
 "cells": [
  {
   "cell_type": "code",
   "execution_count": 8,
   "metadata": {},
   "outputs": [],
   "source": [
    "import pandas as pd\n",
    "import numpy as np"
   ]
  },
  {
   "cell_type": "code",
   "execution_count": 9,
   "metadata": {},
   "outputs": [
    {
     "name": "stdout",
     "output_type": "stream",
     "text": [
      "Index(['Customer Id', 'Date', 'Product'], dtype='object')\n"
     ]
    }
   ],
   "source": [
    "df = pd.read_csv('supermarket.csv')\n",
    "print(df.columns)"
   ]
  },
  {
   "cell_type": "code",
   "execution_count": 10,
   "metadata": {},
   "outputs": [
    {
     "name": "stdout",
     "output_type": "stream",
     "text": [
      "Total number of unique products: 137\n"
     ]
    }
   ],
   "source": [
    "unique_products = df['Product'].nunique()\n",
    "\n",
    "print(f'Total number of unique products: {unique_products}')"
   ]
  },
  {
   "cell_type": "code",
   "execution_count": 11,
   "metadata": {},
   "outputs": [
    {
     "name": "stdout",
     "output_type": "stream",
     "text": [
      "Average sales per day: 44.93\n"
     ]
    }
   ],
   "source": [
    "sales_per_day = df.groupby('Date').size()\n",
    "average_sales_per_day = sales_per_day.mean()\n",
    "\n",
    "print(f'Average sales per day: {average_sales_per_day:.2f}')\n"
   ]
  },
  {
   "cell_type": "code",
   "execution_count": 12,
   "metadata": {},
   "outputs": [
    {
     "name": "stdout",
     "output_type": "stream",
     "text": [
      "4 least common products\n",
      "Product\n",
      "kitchen utensil          1\n",
      "preservation products    1\n",
      "baby cosmetics           3\n",
      "bags                     4\n",
      "Name: count, dtype: int64\n"
     ]
    }
   ],
   "source": [
    "product_counts = df['Product'].value_counts()\n",
    "\n",
    "least_common_products = product_counts.nsmallest(4)\n",
    "\n",
    "print(\"4 least common products\")\n",
    "print(least_common_products)"
   ]
  },
  {
   "cell_type": "code",
   "execution_count": 14,
   "metadata": {},
   "outputs": [
    {
     "name": "stdout",
     "output_type": "stream",
     "text": [
      "5 customers with most shop in 2020\n",
      "Customer Id\n",
      "0ZRF32AJ06BC    26\n",
      "KACGV5OJXMJW    23\n",
      "0P1TPIH74E79    21\n",
      "ED8WY0DE27XG    20\n",
      "NQQZGF4K1FE0    20\n",
      "Name: count, dtype: int64\n"
     ]
    }
   ],
   "source": [
    "df['Date'] = pd.to_datetime(df['Date'])\n",
    "\n",
    "df_2020 = df[df['Date'].dt.year == 2020]\n",
    "\n",
    "customer_basket_counts = df_2020['Customer Id'].value_counts()\n",
    "\n",
    "top_5_customers = customer_basket_counts.nlargest(5)\n",
    "\n",
    "print(\"5 customers with most shop in 2020\")\n",
    "print(top_5_customers)"
   ]
  },
  {
   "cell_type": "code",
   "execution_count": 15,
   "metadata": {},
   "outputs": [
    {
     "name": "stdout",
     "output_type": "stream",
     "text": [
      "The day of the week with the highest number of products sold is: Wednesday with 4846 products sold.\n"
     ]
    }
   ],
   "source": [
    "df['Date'] = pd.to_datetime(df['Date'])\n",
    "df['Day_of_Week'] = df['Date'].dt.day_name()\n",
    "\n",
    "day_of_week_sales = df['Day_of_Week'].value_counts()\n",
    "\n",
    "most_sales_day = day_of_week_sales.idxmax()\n",
    "most_sales_count = day_of_week_sales.max()\n",
    "\n",
    "print(f\"The day of the week with the highest number of products sold is: {most_sales_day} with {most_sales_count} products sold.\")"
   ]
  },
  {
   "cell_type": "code",
   "execution_count": 16,
   "metadata": {},
   "outputs": [],
   "source": [
    "from mlxtend.preprocessing import TransactionEncoder\n",
    "from mlxtend.frequent_patterns import apriori, association_rules"
   ]
  },
  {
   "cell_type": "code",
   "execution_count": 17,
   "metadata": {},
   "outputs": [
    {
     "name": "stdout",
     "output_type": "stream",
     "text": [
      "   Instant food products  UHT-milk  abrasive cleaner  artif. sweetener  \\\n",
      "0                  False     False             False             False   \n",
      "1                  False     False             False             False   \n",
      "2                  False     False             False             False   \n",
      "3                  False     False             False             False   \n",
      "4                  False     False             False             False   \n",
      "\n",
      "   baby cosmetics   bags  baking powder  bathroom cleaner   beef  berries  \\\n",
      "0           False  False          False             False  False    False   \n",
      "1           False  False          False             False  False    False   \n",
      "2           False  False           True             False  False    False   \n",
      "3           False  False          False             False  False    False   \n",
      "4           False  False          False             False  False    False   \n",
      "\n",
      "   ...    tea  toilet cleaner  tropical fruit  turkey  waffles  \\\n",
      "0  ...  False           False           False   False    False   \n",
      "1  ...  False           False           False   False    False   \n",
      "2  ...  False           False           False   False    False   \n",
      "3  ...  False           False           False   False     True   \n",
      "4  ...  False           False            True    True    False   \n",
      "\n",
      "   whipped/sour cream  white bread  whole milk  yogurt  zwieback  \n",
      "0               False        False       False   False     False  \n",
      "1               False         True       False   False     False  \n",
      "2               False         True        True   False     False  \n",
      "3               False         True        True    True     False  \n",
      "4               False         True        True   False     False  \n",
      "\n",
      "[5 rows x 137 columns]\n"
     ]
    }
   ],
   "source": [
    "transactions = df.groupby('Customer Id')['Product'].apply(list).tolist()\n",
    "\n",
    "te = TransactionEncoder()\n",
    "te_ary = te.fit(transactions).transform(transactions)\n",
    "df = pd.DataFrame(te_ary, columns=te.columns_)\n",
    "\n",
    "print(df.head())"
   ]
  },
  {
   "cell_type": "code",
   "execution_count": 20,
   "metadata": {},
   "outputs": [
    {
     "name": "stdout",
     "output_type": "stream",
     "text": [
      "Empty DataFrame\n",
      "Columns: [antecedents, consequents, antecedent support, consequent support, support, confidence, lift, leverage, conviction, zhangs_metric]\n",
      "Index: []\n"
     ]
    }
   ],
   "source": [
    "frequent_itemsets = apriori(df, min_support=0.2, use_colnames=True)\n",
    "rules = association_rules(frequent_itemsets, metric=\"confidence\", min_threshold=0.7)\n",
    "print(rules)\n"
   ]
  },
  {
   "cell_type": "code",
   "execution_count": 22,
   "metadata": {},
   "outputs": [
    {
     "name": "stdout",
     "output_type": "stream",
     "text": [
      "Top 5 rules with highest lift:\n",
      "Empty DataFrame\n",
      "Columns: [antecedents, consequents, antecedent support, consequent support, support, confidence, lift, leverage, conviction, zhangs_metric]\n",
      "Index: []\n"
     ]
    }
   ],
   "source": [
    "rules['lift'] = pd.to_numeric(rules['lift'])\n",
    "top_lift_rules = rules.nlargest(5, 'lift')\n",
    "print(\"Top 5 rules with highest lift:\")\n",
    "print(top_lift_rules)"
   ]
  },
  {
   "cell_type": "code",
   "execution_count": 23,
   "metadata": {},
   "outputs": [
    {
     "name": "stdout",
     "output_type": "stream",
     "text": [
      "Top 5 products with highest support:\n",
      "whole milk          0.458772\n",
      "other vegetables    0.377087\n",
      "rolls/buns          0.350116\n",
      "soda                0.313897\n",
      "yogurt              0.283329\n",
      "dtype: float64\n"
     ]
    }
   ],
   "source": [
    "top_products = df.mean().nlargest(5)\n",
    "print(\"Top 5 products with highest support:\")\n",
    "print(top_products)"
   ]
  }
 ],
 "metadata": {
  "kernelspec": {
   "display_name": "base",
   "language": "python",
   "name": "python3"
  },
  "language_info": {
   "codemirror_mode": {
    "name": "ipython",
    "version": 3
   },
   "file_extension": ".py",
   "mimetype": "text/x-python",
   "name": "python",
   "nbconvert_exporter": "python",
   "pygments_lexer": "ipython3",
   "version": "3.11.4"
  }
 },
 "nbformat": 4,
 "nbformat_minor": 2
}
