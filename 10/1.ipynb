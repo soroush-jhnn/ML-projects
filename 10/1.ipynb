{
 "cells": [
  {
   "cell_type": "code",
   "execution_count": 1,
   "metadata": {},
   "outputs": [],
   "source": [
    "import torch\n",
    "import torch.nn as nn\n",
    "import torch.optim as optim\n",
    "import pandas as pd\n",
    "from sklearn.model_selection import train_test_split\n",
    "from sklearn.preprocessing import StandardScaler\n",
    "from sklearn.metrics import accuracy_score"
   ]
  },
  {
   "cell_type": "code",
   "execution_count": 2,
   "metadata": {},
   "outputs": [
    {
     "name": "stdout",
     "output_type": "stream",
     "text": [
      "        Unnamed: 0      id  Gender      Customer Type  Age   Type of Travel  \\\n",
      "0                0   70172    Male     Loyal Customer   13  Personal Travel   \n",
      "1                1    5047    Male  disloyal Customer   25  Business travel   \n",
      "2                2  110028  Female     Loyal Customer   26  Business travel   \n",
      "3                3   24026  Female     Loyal Customer   25  Business travel   \n",
      "4                4  119299    Male     Loyal Customer   61  Business travel   \n",
      "...            ...     ...     ...                ...  ...              ...   \n",
      "103899      103899   94171  Female  disloyal Customer   23  Business travel   \n",
      "103900      103900   73097    Male     Loyal Customer   49  Business travel   \n",
      "103901      103901   68825    Male  disloyal Customer   30  Business travel   \n",
      "103902      103902   54173  Female  disloyal Customer   22  Business travel   \n",
      "103903      103903   62567    Male     Loyal Customer   27  Business travel   \n",
      "\n",
      "           Class  Flight Distance  Inflight wifi service  \\\n",
      "0       Eco Plus              460                      3   \n",
      "1       Business              235                      3   \n",
      "2       Business             1142                      2   \n",
      "3       Business              562                      2   \n",
      "4       Business              214                      3   \n",
      "...          ...              ...                    ...   \n",
      "103899       Eco              192                      2   \n",
      "103900  Business             2347                      4   \n",
      "103901  Business             1995                      1   \n",
      "103902       Eco             1000                      1   \n",
      "103903  Business             1723                      1   \n",
      "\n",
      "        Departure/Arrival time convenient  ...  Inflight entertainment  \\\n",
      "0                                       4  ...                       5   \n",
      "1                                       2  ...                       1   \n",
      "2                                       2  ...                       5   \n",
      "3                                       5  ...                       2   \n",
      "4                                       3  ...                       3   \n",
      "...                                   ...  ...                     ...   \n",
      "103899                                  1  ...                       2   \n",
      "103900                                  4  ...                       5   \n",
      "103901                                  1  ...                       4   \n",
      "103902                                  1  ...                       1   \n",
      "103903                                  3  ...                       1   \n",
      "\n",
      "        On-board service  Leg room service  Baggage handling  Checkin service  \\\n",
      "0                      4                 3                 4                4   \n",
      "1                      1                 5                 3                1   \n",
      "2                      4                 3                 4                4   \n",
      "3                      2                 5                 3                1   \n",
      "4                      3                 4                 4                3   \n",
      "...                  ...               ...               ...              ...   \n",
      "103899                 3                 1                 4                2   \n",
      "103900                 5                 5                 5                5   \n",
      "103901                 3                 2                 4                5   \n",
      "103902                 4                 5                 1                5   \n",
      "103903                 1                 1                 4                4   \n",
      "\n",
      "        Inflight service  Cleanliness  Departure Delay in Minutes  \\\n",
      "0                      5            5                          25   \n",
      "1                      4            1                           1   \n",
      "2                      4            5                           0   \n",
      "3                      4            2                          11   \n",
      "4                      3            3                           0   \n",
      "...                  ...          ...                         ...   \n",
      "103899                 3            2                           3   \n",
      "103900                 5            4                           0   \n",
      "103901                 5            4                           7   \n",
      "103902                 4            1                           0   \n",
      "103903                 3            1                           0   \n",
      "\n",
      "        Arrival Delay in Minutes             satisfaction  \n",
      "0                           18.0  neutral or dissatisfied  \n",
      "1                            6.0  neutral or dissatisfied  \n",
      "2                            0.0                satisfied  \n",
      "3                            9.0  neutral or dissatisfied  \n",
      "4                            0.0                satisfied  \n",
      "...                          ...                      ...  \n",
      "103899                       0.0  neutral or dissatisfied  \n",
      "103900                       0.0                satisfied  \n",
      "103901                      14.0  neutral or dissatisfied  \n",
      "103902                       0.0  neutral or dissatisfied  \n",
      "103903                       0.0  neutral or dissatisfied  \n",
      "\n",
      "[103904 rows x 25 columns]\n"
     ]
    }
   ],
   "source": [
    "# Replace 'your_file.csv' with the actual path to your CSV file\n",
    "file_path = 'airplane.csv'\n",
    "\n",
    "# Read the CSV file into a DataFrame\n",
    "df = pd.read_csv(file_path)\n",
    "\n",
    "# Display the DataFrame\n",
    "print(df)"
   ]
  },
  {
   "cell_type": "code",
   "execution_count": 3,
   "metadata": {},
   "outputs": [],
   "source": [
    "# Assume you want to delete the column at index 2 (replace with the actual index)\n",
    "column_index_to_delete = 0\n",
    "\n",
    "# Delete the column by index\n",
    "df = df.drop(df.columns[column_index_to_delete], axis=1)"
   ]
  },
  {
   "cell_type": "code",
   "execution_count": 4,
   "metadata": {},
   "outputs": [],
   "source": [
    "columns_to_delete = ['id', 'Gender', 'Customer Type', 'Age', 'Type of Travel', 'Class', 'Flight Distance', ]\n",
    "\n",
    "# Drop the specified columns\n",
    "df = df.drop(columns=columns_to_delete)"
   ]
  },
  {
   "cell_type": "code",
   "execution_count": 5,
   "metadata": {},
   "outputs": [
    {
     "name": "stdout",
     "output_type": "stream",
     "text": [
      "        Inflight wifi service  Departure/Arrival time convenient  \\\n",
      "0                           3                                  4   \n",
      "1                           3                                  2   \n",
      "2                           2                                  2   \n",
      "3                           2                                  5   \n",
      "4                           3                                  3   \n",
      "...                       ...                                ...   \n",
      "103899                      2                                  1   \n",
      "103900                      4                                  4   \n",
      "103901                      1                                  1   \n",
      "103902                      1                                  1   \n",
      "103903                      1                                  3   \n",
      "\n",
      "        Ease of Online booking  Gate location  Food and drink  \\\n",
      "0                            3              1               5   \n",
      "1                            3              3               1   \n",
      "2                            2              2               5   \n",
      "3                            5              5               2   \n",
      "4                            3              3               4   \n",
      "...                        ...            ...             ...   \n",
      "103899                       2              3               2   \n",
      "103900                       4              4               2   \n",
      "103901                       1              3               4   \n",
      "103902                       1              5               1   \n",
      "103903                       3              3               1   \n",
      "\n",
      "        Online boarding  Seat comfort  Inflight entertainment  \\\n",
      "0                     3             5                       5   \n",
      "1                     3             1                       1   \n",
      "2                     5             5                       5   \n",
      "3                     2             2                       2   \n",
      "4                     5             5                       3   \n",
      "...                 ...           ...                     ...   \n",
      "103899                2             2                       2   \n",
      "103900                4             5                       5   \n",
      "103901                1             5                       4   \n",
      "103902                1             1                       1   \n",
      "103903                1             1                       1   \n",
      "\n",
      "        On-board service  Leg room service  Baggage handling  Checkin service  \\\n",
      "0                      4                 3                 4                4   \n",
      "1                      1                 5                 3                1   \n",
      "2                      4                 3                 4                4   \n",
      "3                      2                 5                 3                1   \n",
      "4                      3                 4                 4                3   \n",
      "...                  ...               ...               ...              ...   \n",
      "103899                 3                 1                 4                2   \n",
      "103900                 5                 5                 5                5   \n",
      "103901                 3                 2                 4                5   \n",
      "103902                 4                 5                 1                5   \n",
      "103903                 1                 1                 4                4   \n",
      "\n",
      "        Inflight service  Cleanliness  Departure Delay in Minutes  \\\n",
      "0                      5            5                          25   \n",
      "1                      4            1                           1   \n",
      "2                      4            5                           0   \n",
      "3                      4            2                          11   \n",
      "4                      3            3                           0   \n",
      "...                  ...          ...                         ...   \n",
      "103899                 3            2                           3   \n",
      "103900                 5            4                           0   \n",
      "103901                 5            4                           7   \n",
      "103902                 4            1                           0   \n",
      "103903                 3            1                           0   \n",
      "\n",
      "        Arrival Delay in Minutes             satisfaction  \n",
      "0                           18.0  neutral or dissatisfied  \n",
      "1                            6.0  neutral or dissatisfied  \n",
      "2                            0.0                satisfied  \n",
      "3                            9.0  neutral or dissatisfied  \n",
      "4                            0.0                satisfied  \n",
      "...                          ...                      ...  \n",
      "103899                       0.0  neutral or dissatisfied  \n",
      "103900                       0.0                satisfied  \n",
      "103901                      14.0  neutral or dissatisfied  \n",
      "103902                       0.0  neutral or dissatisfied  \n",
      "103903                       0.0  neutral or dissatisfied  \n",
      "\n",
      "[103904 rows x 17 columns]\n"
     ]
    }
   ],
   "source": [
    "print(df)"
   ]
  },
  {
   "cell_type": "code",
   "execution_count": 6,
   "metadata": {},
   "outputs": [
    {
     "name": "stdout",
     "output_type": "stream",
     "text": [
      "Index(['Inflight wifi service', 'Departure/Arrival time convenient',\n",
      "       'Ease of Online booking', 'Gate location', 'Food and drink',\n",
      "       'Online boarding', 'Seat comfort', 'Inflight entertainment',\n",
      "       'On-board service', 'Leg room service', 'Baggage handling',\n",
      "       'Checkin service', 'Inflight service', 'Cleanliness',\n",
      "       'Departure Delay in Minutes', 'Arrival Delay in Minutes',\n",
      "       'satisfaction'],\n",
      "      dtype='object')\n"
     ]
    }
   ],
   "source": [
    "print(df.columns)"
   ]
  },
  {
   "cell_type": "code",
   "execution_count": 7,
   "metadata": {},
   "outputs": [
    {
     "name": "stdout",
     "output_type": "stream",
     "text": [
      "['neutral or dissatisfied' 'satisfied']\n",
      "[0 1]\n"
     ]
    }
   ],
   "source": [
    "print(df['satisfaction'].unique())\n",
    "\n",
    "# Replace 'neutral' or 'dissatisfied' with 0, and 'satisfied' with 1\n",
    "df['satisfaction'] = df['satisfaction'].replace({'neutral or dissatisfied': 0, 'satisfied': 1})\n",
    "\n",
    "# Check unique values again to verify the changes\n",
    "print(df['satisfaction'].unique())"
   ]
  },
  {
   "cell_type": "code",
   "execution_count": 8,
   "metadata": {},
   "outputs": [],
   "source": [
    " \n",
    "average_delay = df['Arrival Delay in Minutes'].mean()\n",
    "\n",
    "# Replace values based on the condition\n",
    "df['Arrival Delay in Minutes'] = df['Arrival Delay in Minutes'].apply(lambda x: 0 if x > average_delay else 1)\n"
   ]
  },
  {
   "cell_type": "code",
   "execution_count": 9,
   "metadata": {},
   "outputs": [],
   "source": [
    " \n",
    "average_delay = df['Departure Delay in Minutes'].mean()\n",
    "\n",
    "# Replace values based on the condition\n",
    "df['Departure Delay in Minutes'] = df['Departure Delay in Minutes'].apply(lambda x: 0 if x > average_delay else 1)\n"
   ]
  },
  {
   "cell_type": "code",
   "execution_count": 10,
   "metadata": {},
   "outputs": [],
   "source": [
    " \n",
    "average_delay = df['Inflight service'].mean()\n",
    "\n",
    "# Replace values based on the condition\n",
    "df['Inflight service'] = df['Inflight service'].apply(lambda x: 1 if x > average_delay else 0)\n"
   ]
  },
  {
   "cell_type": "code",
   "execution_count": 11,
   "metadata": {},
   "outputs": [],
   "source": [
    " \n",
    "average_delay = df['Cleanliness'].mean()\n",
    "\n",
    "# Replace values based on the condition\n",
    "df['Cleanliness'] = df['Cleanliness'].apply(lambda x: 1 if x > average_delay else 0)"
   ]
  },
  {
   "cell_type": "code",
   "execution_count": 12,
   "metadata": {},
   "outputs": [],
   "source": [
    " \n",
    "average_delay = df['Checkin service'].mean()\n",
    "\n",
    "# Replace values based on the condition\n",
    "df['Checkin service'] = df['Checkin service'].apply(lambda x: 1 if x > average_delay else 0)"
   ]
  },
  {
   "cell_type": "code",
   "execution_count": 13,
   "metadata": {},
   "outputs": [],
   "source": [
    " \n",
    "average_delay = df['Baggage handling'].mean()\n",
    "\n",
    "# Replace values based on the condition\n",
    "df['Baggage handling'] = df['Baggage handling'].apply(lambda x: 1 if x > average_delay else 0)"
   ]
  },
  {
   "cell_type": "code",
   "execution_count": 14,
   "metadata": {},
   "outputs": [],
   "source": [
    " \n",
    "average_delay = df['Leg room service'].mean()\n",
    "\n",
    "# Replace values based on the condition\n",
    "df['Leg room service'] = df['Leg room service'].apply(lambda x: 1 if x > average_delay else 0)"
   ]
  },
  {
   "cell_type": "code",
   "execution_count": 15,
   "metadata": {},
   "outputs": [],
   "source": [
    " \n",
    "average_delay = df['On-board service'].mean()\n",
    "\n",
    "# Replace values based on the condition\n",
    "df['On-board service'] = df['On-board service'].apply(lambda x: 1 if x > average_delay else 0)"
   ]
  },
  {
   "cell_type": "code",
   "execution_count": 16,
   "metadata": {},
   "outputs": [],
   "source": [
    " \n",
    "average_delay = df['Inflight entertainment'].mean()\n",
    "\n",
    "# Replace values based on the condition\n",
    "df['Inflight entertainment'] = df['Inflight entertainment'].apply(lambda x: 1 if x > average_delay else 0)"
   ]
  },
  {
   "cell_type": "code",
   "execution_count": 17,
   "metadata": {},
   "outputs": [],
   "source": [
    " \n",
    "average_delay = df['Seat comfort'].mean()\n",
    "\n",
    "# Replace values based on the condition\n",
    "df['Seat comfort'] = df['Seat comfort'].apply(lambda x: 1 if x > average_delay else 0)"
   ]
  },
  {
   "cell_type": "code",
   "execution_count": 18,
   "metadata": {},
   "outputs": [],
   "source": [
    " \n",
    "average_delay = df['Online boarding'].mean()\n",
    "\n",
    "# Replace values based on the condition\n",
    "df['Online boarding'] = df['Online boarding'].apply(lambda x: 1 if x > average_delay else 0)"
   ]
  },
  {
   "cell_type": "code",
   "execution_count": 19,
   "metadata": {},
   "outputs": [],
   "source": [
    " \n",
    "average_delay = df['Food and drink'].mean()\n",
    "\n",
    "# Replace values based on the condition\n",
    "df['Food and drink'] = df['Food and drink'].apply(lambda x: 1 if x > average_delay else 0)"
   ]
  },
  {
   "cell_type": "code",
   "execution_count": 20,
   "metadata": {},
   "outputs": [],
   "source": [
    " \n",
    "average_delay = df['Gate location'].mean()\n",
    "\n",
    "# Replace values based on the condition\n",
    "df['Gate location'] = df['Gate location'].apply(lambda x: 1 if x > average_delay else 0)"
   ]
  },
  {
   "cell_type": "code",
   "execution_count": 21,
   "metadata": {},
   "outputs": [
    {
     "ename": "KeyboardInterrupt",
     "evalue": "",
     "output_type": "error",
     "traceback": [
      "\u001b[1;31m---------------------------------------------------------------------------\u001b[0m",
      "\u001b[1;31mKeyboardInterrupt\u001b[0m                         Traceback (most recent call last)",
      "Cell \u001b[1;32mIn[21], line 4\u001b[0m\n\u001b[0;32m      1\u001b[0m average_delay \u001b[38;5;241m=\u001b[39m df[\u001b[38;5;124m'\u001b[39m\u001b[38;5;124mEase of Online booking\u001b[39m\u001b[38;5;124m'\u001b[39m]\u001b[38;5;241m.\u001b[39mmean()\n\u001b[0;32m      3\u001b[0m \u001b[38;5;66;03m# Replace values based on the condition\u001b[39;00m\n\u001b[1;32m----> 4\u001b[0m df[\u001b[38;5;124m'\u001b[39m\u001b[38;5;124mEase of Online booking\u001b[39m\u001b[38;5;124m'\u001b[39m] \u001b[38;5;241m=\u001b[39m \u001b[43mdf\u001b[49m\u001b[43m[\u001b[49m\u001b[38;5;124;43m'\u001b[39;49m\u001b[38;5;124;43mEase of Online booking\u001b[39;49m\u001b[38;5;124;43m'\u001b[39;49m\u001b[43m]\u001b[49m\u001b[38;5;241;43m.\u001b[39;49m\u001b[43mapply\u001b[49m\u001b[43m(\u001b[49m\u001b[38;5;28;43;01mlambda\u001b[39;49;00m\u001b[43m \u001b[49m\u001b[43mx\u001b[49m\u001b[43m:\u001b[49m\u001b[43m \u001b[49m\u001b[38;5;241;43m1\u001b[39;49m\u001b[43m \u001b[49m\u001b[38;5;28;43;01mif\u001b[39;49;00m\u001b[43m \u001b[49m\u001b[43mx\u001b[49m\u001b[43m \u001b[49m\u001b[38;5;241;43m>\u001b[39;49m\u001b[43m \u001b[49m\u001b[43maverage_delay\u001b[49m\u001b[43m \u001b[49m\u001b[38;5;28;43;01melse\u001b[39;49;00m\u001b[43m \u001b[49m\u001b[38;5;241;43m0\u001b[39;49m\u001b[43m)\u001b[49m\n",
      "File \u001b[1;32mc:\\Users\\User\\miniconda3\\Lib\\site-packages\\pandas\\core\\series.py:4765\u001b[0m, in \u001b[0;36mSeries.apply\u001b[1;34m(self, func, convert_dtype, args, by_row, **kwargs)\u001b[0m\n\u001b[0;32m   4625\u001b[0m \u001b[38;5;28;01mdef\u001b[39;00m \u001b[38;5;21mapply\u001b[39m(\n\u001b[0;32m   4626\u001b[0m     \u001b[38;5;28mself\u001b[39m,\n\u001b[0;32m   4627\u001b[0m     func: AggFuncType,\n\u001b[1;32m   (...)\u001b[0m\n\u001b[0;32m   4632\u001b[0m     \u001b[38;5;241m*\u001b[39m\u001b[38;5;241m*\u001b[39mkwargs,\n\u001b[0;32m   4633\u001b[0m ) \u001b[38;5;241m-\u001b[39m\u001b[38;5;241m>\u001b[39m DataFrame \u001b[38;5;241m|\u001b[39m Series:\n\u001b[0;32m   4634\u001b[0m \u001b[38;5;250m    \u001b[39m\u001b[38;5;124;03m\"\"\"\u001b[39;00m\n\u001b[0;32m   4635\u001b[0m \u001b[38;5;124;03m    Invoke function on values of Series.\u001b[39;00m\n\u001b[0;32m   4636\u001b[0m \n\u001b[1;32m   (...)\u001b[0m\n\u001b[0;32m   4756\u001b[0m \u001b[38;5;124;03m    dtype: float64\u001b[39;00m\n\u001b[0;32m   4757\u001b[0m \u001b[38;5;124;03m    \"\"\"\u001b[39;00m\n\u001b[0;32m   4758\u001b[0m     \u001b[38;5;28;01mreturn\u001b[39;00m \u001b[43mSeriesApply\u001b[49m\u001b[43m(\u001b[49m\n\u001b[0;32m   4759\u001b[0m \u001b[43m        \u001b[49m\u001b[38;5;28;43mself\u001b[39;49m\u001b[43m,\u001b[49m\n\u001b[0;32m   4760\u001b[0m \u001b[43m        \u001b[49m\u001b[43mfunc\u001b[49m\u001b[43m,\u001b[49m\n\u001b[0;32m   4761\u001b[0m \u001b[43m        \u001b[49m\u001b[43mconvert_dtype\u001b[49m\u001b[38;5;241;43m=\u001b[39;49m\u001b[43mconvert_dtype\u001b[49m\u001b[43m,\u001b[49m\n\u001b[0;32m   4762\u001b[0m \u001b[43m        \u001b[49m\u001b[43mby_row\u001b[49m\u001b[38;5;241;43m=\u001b[39;49m\u001b[43mby_row\u001b[49m\u001b[43m,\u001b[49m\n\u001b[0;32m   4763\u001b[0m \u001b[43m        \u001b[49m\u001b[43margs\u001b[49m\u001b[38;5;241;43m=\u001b[39;49m\u001b[43margs\u001b[49m\u001b[43m,\u001b[49m\n\u001b[0;32m   4764\u001b[0m \u001b[43m        \u001b[49m\u001b[43mkwargs\u001b[49m\u001b[38;5;241;43m=\u001b[39;49m\u001b[43mkwargs\u001b[49m\u001b[43m,\u001b[49m\n\u001b[1;32m-> 4765\u001b[0m \u001b[43m    \u001b[49m\u001b[43m)\u001b[49m\u001b[38;5;241;43m.\u001b[39;49m\u001b[43mapply\u001b[49m\u001b[43m(\u001b[49m\u001b[43m)\u001b[49m\n",
      "File \u001b[1;32mc:\\Users\\User\\miniconda3\\Lib\\site-packages\\pandas\\core\\apply.py:1201\u001b[0m, in \u001b[0;36mSeriesApply.apply\u001b[1;34m(self)\u001b[0m\n\u001b[0;32m   1198\u001b[0m     \u001b[38;5;28;01mreturn\u001b[39;00m \u001b[38;5;28mself\u001b[39m\u001b[38;5;241m.\u001b[39mapply_compat()\n\u001b[0;32m   1200\u001b[0m \u001b[38;5;66;03m# self.func is Callable\u001b[39;00m\n\u001b[1;32m-> 1201\u001b[0m \u001b[38;5;28;01mreturn\u001b[39;00m \u001b[38;5;28;43mself\u001b[39;49m\u001b[38;5;241;43m.\u001b[39;49m\u001b[43mapply_standard\u001b[49m\u001b[43m(\u001b[49m\u001b[43m)\u001b[49m\n",
      "File \u001b[1;32mc:\\Users\\User\\miniconda3\\Lib\\site-packages\\pandas\\core\\apply.py:1285\u001b[0m, in \u001b[0;36mSeriesApply.apply_standard\u001b[1;34m(self)\u001b[0m\n\u001b[0;32m   1280\u001b[0m action \u001b[38;5;241m=\u001b[39m \u001b[38;5;124m\"\u001b[39m\u001b[38;5;124mignore\u001b[39m\u001b[38;5;124m\"\u001b[39m \u001b[38;5;28;01mif\u001b[39;00m \u001b[38;5;28misinstance\u001b[39m(obj\u001b[38;5;241m.\u001b[39mdtype, CategoricalDtype) \u001b[38;5;28;01melse\u001b[39;00m \u001b[38;5;28;01mNone\u001b[39;00m\n\u001b[0;32m   1281\u001b[0m mapped \u001b[38;5;241m=\u001b[39m obj\u001b[38;5;241m.\u001b[39m_map_values(\n\u001b[0;32m   1282\u001b[0m     mapper\u001b[38;5;241m=\u001b[39mcurried, na_action\u001b[38;5;241m=\u001b[39maction, convert\u001b[38;5;241m=\u001b[39m\u001b[38;5;28mself\u001b[39m\u001b[38;5;241m.\u001b[39mconvert_dtype\n\u001b[0;32m   1283\u001b[0m )\n\u001b[1;32m-> 1285\u001b[0m \u001b[38;5;28;01mif\u001b[39;00m \u001b[38;5;28mlen\u001b[39m(mapped) \u001b[38;5;129;01mand\u001b[39;00m \u001b[38;5;28misinstance\u001b[39m(mapped[\u001b[38;5;241m0\u001b[39m], ABCSeries):\n\u001b[0;32m   1286\u001b[0m     warnings\u001b[38;5;241m.\u001b[39mwarn(\n\u001b[0;32m   1287\u001b[0m         \u001b[38;5;124m\"\u001b[39m\u001b[38;5;124mReturning a DataFrame from Series.apply when the supplied function \u001b[39m\u001b[38;5;124m\"\u001b[39m\n\u001b[0;32m   1288\u001b[0m         \u001b[38;5;124m\"\u001b[39m\u001b[38;5;124mreturns a Series is deprecated and will be removed in a future \u001b[39m\u001b[38;5;124m\"\u001b[39m\n\u001b[1;32m   (...)\u001b[0m\n\u001b[0;32m   1291\u001b[0m         stacklevel\u001b[38;5;241m=\u001b[39mfind_stack_level(),\n\u001b[0;32m   1292\u001b[0m     )  \u001b[38;5;66;03m# GH52116\u001b[39;00m\n\u001b[0;32m   1294\u001b[0m     \u001b[38;5;66;03m# GH#43986 Need to do list(mapped) in order to get treated as nested\u001b[39;00m\n\u001b[0;32m   1295\u001b[0m     \u001b[38;5;66;03m#  See also GH#25959 regarding EA support\u001b[39;00m\n",
      "File \u001b[1;32mc:\\Users\\User\\miniconda3\\Lib\\site-packages\\pandas\\core\\dtypes\\generic.py:42\u001b[0m, in \u001b[0;36mcreate_pandas_abc_type.<locals>._instancecheck\u001b[1;34m(cls, inst)\u001b[0m\n\u001b[0;32m     38\u001b[0m     \u001b[38;5;28;01mreturn\u001b[39;00m \u001b[38;5;28mgetattr\u001b[39m(inst, attr, \u001b[38;5;124m\"\u001b[39m\u001b[38;5;124m_typ\u001b[39m\u001b[38;5;124m\"\u001b[39m) \u001b[38;5;129;01min\u001b[39;00m comp\n\u001b[0;32m     40\u001b[0m \u001b[38;5;66;03m# https://github.com/python/mypy/issues/1006\u001b[39;00m\n\u001b[0;32m     41\u001b[0m \u001b[38;5;66;03m# error: 'classmethod' used with a non-method\u001b[39;00m\n\u001b[1;32m---> 42\u001b[0m \u001b[38;5;129m@classmethod\u001b[39m  \u001b[38;5;66;03m# type: ignore[misc]\u001b[39;00m\n\u001b[0;32m     43\u001b[0m \u001b[38;5;28;01mdef\u001b[39;00m \u001b[38;5;21m_instancecheck\u001b[39m(\u001b[38;5;28mcls\u001b[39m, inst) \u001b[38;5;241m-\u001b[39m\u001b[38;5;241m>\u001b[39m \u001b[38;5;28mbool\u001b[39m:\n\u001b[0;32m     44\u001b[0m     \u001b[38;5;28;01mreturn\u001b[39;00m _check(inst) \u001b[38;5;129;01mand\u001b[39;00m \u001b[38;5;129;01mnot\u001b[39;00m \u001b[38;5;28misinstance\u001b[39m(inst, \u001b[38;5;28mtype\u001b[39m)\n\u001b[0;32m     46\u001b[0m \u001b[38;5;129m@classmethod\u001b[39m  \u001b[38;5;66;03m# type: ignore[misc]\u001b[39;00m\n\u001b[0;32m     47\u001b[0m \u001b[38;5;28;01mdef\u001b[39;00m \u001b[38;5;21m_subclasscheck\u001b[39m(\u001b[38;5;28mcls\u001b[39m, inst) \u001b[38;5;241m-\u001b[39m\u001b[38;5;241m>\u001b[39m \u001b[38;5;28mbool\u001b[39m:\n\u001b[0;32m     48\u001b[0m     \u001b[38;5;66;03m# Raise instead of returning False\u001b[39;00m\n\u001b[0;32m     49\u001b[0m     \u001b[38;5;66;03m# This is consistent with default __subclasscheck__ behavior\u001b[39;00m\n",
      "\u001b[1;31mKeyboardInterrupt\u001b[0m: "
     ]
    }
   ],
   "source": [
    "average_delay = df['Ease of Online booking'].mean()\n",
    "\n",
    "# Replace values based on the condition\n",
    "df['Ease of Online booking'] = df['Ease of Online booking'].apply(lambda x: 1 if x > average_delay else 0)"
   ]
  },
  {
   "cell_type": "code",
   "execution_count": null,
   "metadata": {},
   "outputs": [],
   "source": [
    "average_delay = df['Departure/Arrival time convenient'].mean()\n",
    "\n",
    "# Replace values based on the condition\n",
    "df['Departure/Arrival time convenient'] = df['Departure/Arrival time convenient'].apply(lambda x: 1 if x > average_delay else 0)"
   ]
  },
  {
   "cell_type": "code",
   "execution_count": null,
   "metadata": {},
   "outputs": [],
   "source": [
    "average_delay = df['Inflight wifi service'].mean()\n",
    "\n",
    "# Replace values based on the condition\n",
    "df['Inflight wifi service'] = df['Inflight wifi service'].apply(lambda x: 1 if x > average_delay else 0)"
   ]
  },
  {
   "cell_type": "code",
   "execution_count": null,
   "metadata": {},
   "outputs": [
    {
     "name": "stdout",
     "output_type": "stream",
     "text": [
      "        Inflight wifi service  Departure/Arrival time convenient  \\\n",
      "0                           1                                  1   \n",
      "1                           1                                  0   \n",
      "2                           0                                  0   \n",
      "3                           0                                  1   \n",
      "4                           1                                  0   \n",
      "...                       ...                                ...   \n",
      "103899                      0                                  0   \n",
      "103900                      1                                  1   \n",
      "103901                      0                                  0   \n",
      "103902                      0                                  0   \n",
      "103903                      0                                  0   \n",
      "\n",
      "        Ease of Online booking  Gate location  Food and drink  \\\n",
      "0                            1              0               1   \n",
      "1                            1              1               0   \n",
      "2                            0              0               1   \n",
      "3                            1              1               0   \n",
      "4                            1              1               1   \n",
      "...                        ...            ...             ...   \n",
      "103899                       0              1               0   \n",
      "103900                       1              1               0   \n",
      "103901                       0              1               1   \n",
      "103902                       0              1               0   \n",
      "103903                       1              1               0   \n",
      "\n",
      "        Online boarding  Seat comfort  Inflight entertainment  \\\n",
      "0                     0             1                       1   \n",
      "1                     0             0                       0   \n",
      "2                     1             1                       1   \n",
      "3                     0             0                       0   \n",
      "4                     1             1                       0   \n",
      "...                 ...           ...                     ...   \n",
      "103899                0             0                       0   \n",
      "103900                1             1                       1   \n",
      "103901                0             1                       1   \n",
      "103902                0             0                       0   \n",
      "103903                0             0                       0   \n",
      "\n",
      "        On-board service  Leg room service  Baggage handling  Checkin service  \\\n",
      "0                      1                 0                 1                1   \n",
      "1                      0                 1                 0                0   \n",
      "2                      1                 0                 1                1   \n",
      "3                      0                 1                 0                0   \n",
      "4                      0                 1                 1                0   \n",
      "...                  ...               ...               ...              ...   \n",
      "103899                 0                 0                 1                0   \n",
      "103900                 1                 1                 1                1   \n",
      "103901                 0                 0                 1                1   \n",
      "103902                 1                 1                 0                1   \n",
      "103903                 0                 0                 1                1   \n",
      "\n",
      "        Inflight service  Cleanliness  Departure Delay in Minutes  \\\n",
      "0                      1            1                           0   \n",
      "1                      1            0                           1   \n",
      "2                      1            1                           1   \n",
      "3                      1            0                           1   \n",
      "4                      0            0                           1   \n",
      "...                  ...          ...                         ...   \n",
      "103899                 0            0                           1   \n",
      "103900                 1            1                           1   \n",
      "103901                 1            1                           1   \n",
      "103902                 1            0                           1   \n",
      "103903                 0            0                           1   \n",
      "\n",
      "        Arrival Delay in Minutes  satisfaction  \n",
      "0                              0             0  \n",
      "1                              1             0  \n",
      "2                              1             1  \n",
      "3                              1             0  \n",
      "4                              1             1  \n",
      "...                          ...           ...  \n",
      "103899                         1             0  \n",
      "103900                         1             1  \n",
      "103901                         1             0  \n",
      "103902                         1             0  \n",
      "103903                         1             0  \n",
      "\n",
      "[103904 rows x 17 columns]\n"
     ]
    }
   ],
   "source": [
    "print(df)"
   ]
  },
  {
   "cell_type": "code",
   "execution_count": null,
   "metadata": {},
   "outputs": [
    {
     "name": "stdout",
     "output_type": "stream",
     "text": [
      "Index(['Inflight wifi service', 'Departure/Arrival time convenient',\n",
      "       'Ease of Online booking', 'Gate location', 'Food and drink',\n",
      "       'Online boarding', 'Seat comfort', 'Inflight entertainment',\n",
      "       'On-board service', 'Leg room service', 'Baggage handling',\n",
      "       'Checkin service', 'Inflight service', 'Cleanliness',\n",
      "       'Departure Delay in Minutes', 'Arrival Delay in Minutes',\n",
      "       'satisfaction'],\n",
      "      dtype='object')\n"
     ]
    }
   ],
   "source": [
    "print(df.columns)"
   ]
  },
  {
   "cell_type": "code",
   "execution_count": null,
   "metadata": {},
   "outputs": [],
   "source": [
    "target_col = 'satisfaction'\n",
    "\n",
    "# Extract features and target variable\n",
    "X = df.drop(columns=[target_col])\n",
    "y = df[target_col]\n",
    "\n",
    "# Split the dataset into training and testing sets\n",
    "X_train, X_test, y_train, y_test = train_test_split(X, y, test_size=0.2, random_state=2000)\n",
    "\n",
    "# Standardize features using StandardScaler\n",
    "scaler = StandardScaler()\n",
    "X_train = scaler.fit_transform(X_train)\n",
    "X_test = scaler.transform(X_test)\n",
    "\n",
    "# Convert data to PyTorch tensors\n",
    "X_train_tensor = torch.Tensor(X_train)\n",
    "y_train_tensor = torch.Tensor(y_train.values).view(-1, 1)\n",
    "\n",
    "X_test_tensor = torch.Tensor(X_test)\n",
    "y_test_tensor = torch.Tensor(y_test.values).view(-1, 1)"
   ]
  },
  {
   "cell_type": "code",
   "execution_count": null,
   "metadata": {},
   "outputs": [
    {
     "name": "stdout",
     "output_type": "stream",
     "text": [
      "Epoch 1/1000, Loss: 0.6798568367958069\n",
      "Epoch 11/1000, Loss: 0.6320250034332275\n",
      "Epoch 21/1000, Loss: 0.589950680732727\n",
      "Epoch 31/1000, Loss: 0.5532433986663818\n",
      "Epoch 41/1000, Loss: 0.5224964022636414\n",
      "Epoch 51/1000, Loss: 0.4980068504810333\n",
      "Epoch 61/1000, Loss: 0.47911128401756287\n",
      "Epoch 71/1000, Loss: 0.4641977846622467\n",
      "Epoch 81/1000, Loss: 0.45169568061828613\n",
      "Epoch 91/1000, Loss: 0.4406428039073944\n",
      "Epoch 101/1000, Loss: 0.4305992126464844\n",
      "Epoch 111/1000, Loss: 0.4215009808540344\n",
      "Epoch 121/1000, Loss: 0.41335275769233704\n",
      "Epoch 131/1000, Loss: 0.40616676211357117\n",
      "Epoch 141/1000, Loss: 0.39986127614974976\n",
      "Epoch 151/1000, Loss: 0.39437001943588257\n",
      "Epoch 161/1000, Loss: 0.38960087299346924\n",
      "Epoch 171/1000, Loss: 0.3855000138282776\n",
      "Epoch 181/1000, Loss: 0.3820045590400696\n",
      "Epoch 191/1000, Loss: 0.37904712557792664\n",
      "Epoch 201/1000, Loss: 0.37652167677879333\n",
      "Epoch 211/1000, Loss: 0.3743382692337036\n",
      "Epoch 221/1000, Loss: 0.37243151664733887\n",
      "Epoch 231/1000, Loss: 0.3707406222820282\n",
      "Epoch 241/1000, Loss: 0.3692264258861542\n",
      "Epoch 251/1000, Loss: 0.3678431212902069\n",
      "Epoch 261/1000, Loss: 0.3665623366832733\n",
      "Epoch 271/1000, Loss: 0.36536890268325806\n",
      "Epoch 281/1000, Loss: 0.36425215005874634\n",
      "Epoch 291/1000, Loss: 0.36318734288215637\n",
      "Epoch 301/1000, Loss: 0.3621634542942047\n",
      "Epoch 311/1000, Loss: 0.36118680238723755\n",
      "Epoch 321/1000, Loss: 0.36025071144104004\n",
      "Epoch 331/1000, Loss: 0.3593495190143585\n",
      "Epoch 341/1000, Loss: 0.35847193002700806\n",
      "Epoch 351/1000, Loss: 0.35761475563049316\n",
      "Epoch 361/1000, Loss: 0.35678502917289734\n",
      "Epoch 371/1000, Loss: 0.3559769093990326\n",
      "Epoch 381/1000, Loss: 0.3551848530769348\n",
      "Epoch 391/1000, Loss: 0.3544122874736786\n",
      "Epoch 401/1000, Loss: 0.35365504026412964\n",
      "Epoch 411/1000, Loss: 0.3529084324836731\n",
      "Epoch 421/1000, Loss: 0.3521699011325836\n",
      "Epoch 431/1000, Loss: 0.3514459431171417\n",
      "Epoch 441/1000, Loss: 0.35073983669281006\n",
      "Epoch 451/1000, Loss: 0.35004910826683044\n",
      "Epoch 461/1000, Loss: 0.3493739664554596\n",
      "Epoch 471/1000, Loss: 0.3487134873867035\n",
      "Epoch 481/1000, Loss: 0.3480723798274994\n",
      "Epoch 491/1000, Loss: 0.3474472761154175\n",
      "Epoch 501/1000, Loss: 0.3468414843082428\n",
      "Epoch 511/1000, Loss: 0.3462555706501007\n",
      "Epoch 521/1000, Loss: 0.34568819403648376\n",
      "Epoch 531/1000, Loss: 0.34514161944389343\n",
      "Epoch 541/1000, Loss: 0.3446079194545746\n",
      "Epoch 551/1000, Loss: 0.3440847396850586\n",
      "Epoch 561/1000, Loss: 0.34357279539108276\n",
      "Epoch 571/1000, Loss: 0.34307271242141724\n",
      "Epoch 581/1000, Loss: 0.34258371591567993\n",
      "Epoch 591/1000, Loss: 0.3421081006526947\n",
      "Epoch 601/1000, Loss: 0.3416379988193512\n",
      "Epoch 611/1000, Loss: 0.34117424488067627\n",
      "Epoch 621/1000, Loss: 0.34071284532546997\n",
      "Epoch 631/1000, Loss: 0.3402614891529083\n",
      "Epoch 641/1000, Loss: 0.3398209810256958\n",
      "Epoch 651/1000, Loss: 0.3393903374671936\n",
      "Epoch 661/1000, Loss: 0.3389689028263092\n",
      "Epoch 671/1000, Loss: 0.3385504484176636\n",
      "Epoch 681/1000, Loss: 0.3381367623806\n",
      "Epoch 691/1000, Loss: 0.33772554993629456\n",
      "Epoch 701/1000, Loss: 0.33731406927108765\n",
      "Epoch 711/1000, Loss: 0.3369121849536896\n",
      "Epoch 721/1000, Loss: 0.336513489484787\n",
      "Epoch 731/1000, Loss: 0.336117148399353\n",
      "Epoch 741/1000, Loss: 0.33572208881378174\n",
      "Epoch 751/1000, Loss: 0.3353310525417328\n",
      "Epoch 761/1000, Loss: 0.3349476456642151\n",
      "Epoch 771/1000, Loss: 0.33457300066947937\n",
      "Epoch 781/1000, Loss: 0.3342004716396332\n",
      "Epoch 791/1000, Loss: 0.33384209871292114\n",
      "Epoch 801/1000, Loss: 0.3334904611110687\n",
      "Epoch 811/1000, Loss: 0.3331388235092163\n",
      "Epoch 821/1000, Loss: 0.3327910900115967\n",
      "Epoch 831/1000, Loss: 0.33244848251342773\n",
      "Epoch 841/1000, Loss: 0.33212029933929443\n",
      "Epoch 851/1000, Loss: 0.33180373907089233\n",
      "Epoch 861/1000, Loss: 0.33148622512817383\n",
      "Epoch 871/1000, Loss: 0.33117201924324036\n",
      "Epoch 881/1000, Loss: 0.3308672606945038\n",
      "Epoch 891/1000, Loss: 0.33056387305259705\n",
      "Epoch 901/1000, Loss: 0.3302668333053589\n",
      "Epoch 911/1000, Loss: 0.3299753665924072\n",
      "Epoch 921/1000, Loss: 0.3296830356121063\n",
      "Epoch 931/1000, Loss: 0.32939663529396057\n",
      "Epoch 941/1000, Loss: 0.3291184902191162\n",
      "Epoch 951/1000, Loss: 0.32884955406188965\n",
      "Epoch 961/1000, Loss: 0.3285880386829376\n",
      "Epoch 971/1000, Loss: 0.3283340334892273\n",
      "Epoch 981/1000, Loss: 0.3280840218067169\n",
      "Epoch 991/1000, Loss: 0.32783782482147217\n",
      "Test Accuracy: 86.89%\n"
     ]
    }
   ],
   "source": [
    "\n",
    "# Define a simple neural network model\n",
    "class SatisfactionModel(nn.Module):\n",
    "    def __init__(self, input_size):\n",
    "        super(SatisfactionModel, self).__init__()\n",
    "        self.fc1 = nn.Linear(input_size, 64)\n",
    "        self.relu = nn.ReLU()\n",
    "        self.fc2 = nn.Linear(64, 1)\n",
    "        self.sigmoid = nn.Sigmoid()\n",
    "\n",
    "    def forward(self, x):\n",
    "        x = self.fc1(x)\n",
    "        x = self.relu(x)\n",
    "        x = self.fc2(x)\n",
    "        x = self.sigmoid(x)\n",
    "        return x\n",
    "\n",
    "# Instantiate the model, loss function, and optimizer\n",
    "input_size = X_train.shape[1]\n",
    "model = SatisfactionModel(input_size)\n",
    "criterion = nn.BCELoss()  # Binary Cross Entropy loss for binary classification\n",
    "optimizer = optim.Adam(model.parameters(), lr=0.001)\n",
    "\n",
    "# Training the neural network\n",
    "epochs = 1000\n",
    "for epoch in range(epochs):\n",
    "    model.train()\n",
    "    y_pred = model(X_train_tensor)\n",
    "    loss = criterion(y_pred, y_train_tensor)\n",
    "    optimizer.zero_grad()\n",
    "    loss.backward()\n",
    "    optimizer.step()\n",
    "    if epoch % 10 == 0:\n",
    "        print(f'Epoch {epoch+1}/{epochs}, Loss: {loss.item()}')\n",
    "\n",
    "# Evaluate the model on the test set\n",
    "model.eval()\n",
    "with torch.no_grad():\n",
    "    y_pred_test = model(X_test_tensor)\n",
    "    y_pred_binary = (y_pred_test > 0.5).float()\n",
    "\n",
    "# Calculate accuracy on the test set\n",
    "accuracy = (y_pred_binary == y_test_tensor).float().mean().item()\n",
    "print(f'Test Accuracy: {accuracy * 100:.2f}%')\n"
   ]
  }
 ],
 "metadata": {
  "kernelspec": {
   "display_name": "Python 3",
   "language": "python",
   "name": "python3"
  },
  "language_info": {
   "codemirror_mode": {
    "name": "ipython",
    "version": 3
   },
   "file_extension": ".py",
   "mimetype": "text/x-python",
   "name": "python",
   "nbconvert_exporter": "python",
   "pygments_lexer": "ipython3",
   "version": "3.11.4"
  }
 },
 "nbformat": 4,
 "nbformat_minor": 2
}
