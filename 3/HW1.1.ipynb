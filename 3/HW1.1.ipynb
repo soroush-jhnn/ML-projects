{
 "cells": [
  {
   "cell_type": "code",
   "execution_count": 26,
   "metadata": {},
   "outputs": [],
   "source": [
    "import pandas as pd\n",
    "import numpy as np"
   ]
  },
  {
   "cell_type": "code",
   "execution_count": 27,
   "metadata": {},
   "outputs": [],
   "source": [
    "# Create a dictionary to hold the data\n",
    "data = {\n",
    "    'Lesson': ['English Language 2', 'Physics 2', 'Discrete Mathematics', 'Electric and Electronic Circuits', 'Database Design'],\n",
    "    'Semester_Passed': ['Even', 'Odd', 'Even', 'Even', 'Odd'],\n",
    "    'ECTS': [2, 3, 3, 3, 3],\n",
    "    'Specialized_or_General_or_Basic': ['General', 'General', 'Basic', 'Specialized', 'Specialized'],\n",
    "    'Instructor': ['Hajari', 'Salimi', 'Ahmadi', 'Mohammadi', 'Bidki'],\n",
    "    'Total_ECTS_in_Semester': [14, 17, 20, 14, 20],\n",
    "    'Days_for_Final_Test': [2, 1, 1, 2, 0],\n",
    "    'Nth_Test_of_Semester': [3, 2, 3, 3, 1],\n",
    "    'Homework': ['Yes', 'Yes', 'Yes', 'Yes', 'Yes'],\n",
    "    'Quiz': ['No', 'Yes', 'Yes', 'Yes', 'Yes'],\n",
    "    'Passed': ['Yes', 'Yes', 'Yes', 'Yes', 'Yes'],\n",
    "    'Conditionally_Passed': ['No', 'No', 'No', 'No', 'No'],\n",
    "    'Grade': ['A', 'A', 'A', 'A', 'B']\n",
    "}"
   ]
  },
  {
   "cell_type": "code",
   "execution_count": 28,
   "metadata": {},
   "outputs": [
    {
     "name": "stdout",
     "output_type": "stream",
     "text": [
      "                             Lesson Semester_Passed  ECTS  \\\n",
      "0                English Language 2            Even     2   \n",
      "1                         Physics 2             Odd     3   \n",
      "2              Discrete Mathematics            Even     3   \n",
      "3  Electric and Electronic Circuits            Even     3   \n",
      "4                   Database Design             Odd     3   \n",
      "\n",
      "  Specialized_or_General_or_Basic Instructor  Total_ECTS_in_Semester  \\\n",
      "0                         General     Hajari                      14   \n",
      "1                         General     Salimi                      17   \n",
      "2                           Basic     Ahmadi                      20   \n",
      "3                     Specialized  Mohammadi                      14   \n",
      "4                     Specialized      Bidki                      20   \n",
      "\n",
      "   Days_for_Final_Test  Nth_Test_of_Semester Homework Quiz Passed  \\\n",
      "0                    2                     3      Yes   No    Yes   \n",
      "1                    1                     2      Yes  Yes    Yes   \n",
      "2                    1                     3      Yes  Yes    Yes   \n",
      "3                    2                     3      Yes  Yes    Yes   \n",
      "4                    0                     1      Yes  Yes    Yes   \n",
      "\n",
      "  Conditionally_Passed Grade  \n",
      "0                   No     A  \n",
      "1                   No     A  \n",
      "2                   No     A  \n",
      "3                   No     A  \n",
      "4                   No     B  \n"
     ]
    }
   ],
   "source": [
    "df = pd.DataFrame(data)\n",
    "print(df)"
   ]
  },
  {
   "cell_type": "markdown",
   "metadata": {},
   "source": [
    "## 1)\n",
    "1. Semester_Passed: Binary\n",
    "2. ECTS: Numeric\n",
    "3. Specialized_or_General_or_Basic: Ordianal\n",
    "4. Instructor: Nominal\n",
    "5. Total_ECTS_in_Semester: Numeric\n",
    "6. Days_for_Final_Test: Numeric \n",
    "7. Nth_Test_of_Semester: Numeric \n",
    "8. Homework: Binary\n",
    "9. Quiz: Binary\n",
    "10. Passed: Binary\n",
    "11. Conditionally_Passed: Binary\n",
    "12. Grade: Ordinal"
   ]
  },
  {
   "cell_type": "markdown",
   "metadata": {},
   "source": [
    "## 2)\n",
    "1. Semester Passed: Low weight\n",
    "2. ECTS: High weight\n",
    "3. Specialized or General or Basic: Medium weight\n",
    "4. Instructor: High weight\n",
    "5. Total ECTS in Semester: High weight\n",
    "6. Days for Final Test: Medium weight\n",
    "7. Nth Test of Semester: Low weight\n",
    "8. Homework: Medium weight\n",
    "9. Quiz: Low weight\n",
    "10. Passed: High weight\n",
    "11. Conditionally Passed: Medium weight\n",
    "12. Grade: High weight"
   ]
  },
  {
   "cell_type": "markdown",
   "metadata": {},
   "source": [
    "## 3)"
   ]
  },
  {
   "cell_type": "code",
   "execution_count": 29,
   "metadata": {},
   "outputs": [
    {
     "name": "stdout",
     "output_type": "stream",
     "text": [
      "Distance Matrix for Attribute 1:\n",
      "[[0. 0. 0. 0. 0.]\n",
      " [1. 0. 0. 0. 0.]\n",
      " [1. 0. 0. 0. 0.]\n",
      " [1. 0. 0. 0. 0.]\n",
      " [1. 0. 0. 0. 0.]]\n",
      "\n",
      "Distance Matrix for Attribute 2:\n",
      "[[0. 0. 0. 0. 0.]\n",
      " [3. 0. 0. 0. 0.]\n",
      " [6. 3. 0. 0. 0.]\n",
      " [0. 3. 6. 0. 0.]\n",
      " [6. 3. 0. 6. 0.]]\n",
      "\n",
      "Distance Matrix for Attribute 3:\n",
      "[[0. 0. 0. 0. 0.]\n",
      " [1. 0. 0. 0. 0.]\n",
      " [1. 0. 0. 0. 0.]\n",
      " [0. 1. 1. 0. 0.]\n",
      " [2. 1. 1. 2. 0.]]\n",
      "\n",
      "Distance Matrix for Attribute 4:\n",
      "[[0. 0. 0. 0. 0.]\n",
      " [1. 0. 0. 0. 0.]\n",
      " [0. 1. 0. 0. 0.]\n",
      " [0. 1. 0. 0. 0.]\n",
      " [2. 1. 2. 2. 0.]]\n",
      "\n",
      "Distance Matrix for Attribute 5:\n",
      "[[0. 0. 0. 0. 0.]\n",
      " [1. 0. 0. 0. 0.]\n",
      " [1. 2. 0. 0. 0.]\n",
      " [2. 3. 1. 0. 0.]\n",
      " [2. 1. 3. 4. 0.]]\n",
      "\n"
     ]
    }
   ],
   "source": [
    "\n",
    "# Convert data to numpy array\n",
    "num_data = len(data['Lesson'])\n",
    "numeric_data = np.zeros((num_data, 5))  # 5 numeric attributes\n",
    "numeric_data[:, 0] = data['ECTS']\n",
    "numeric_data[:, 1] = data['Total_ECTS_in_Semester']\n",
    "numeric_data[:, 2] = data['Days_for_Final_Test']\n",
    "numeric_data[:, 3] = data['Nth_Test_of_Semester']\n",
    "\n",
    "# Convert categorical data to numeric\n",
    "instructor_mapping = {instructor: idx for idx, instructor in enumerate(set(data['Instructor']))}\n",
    "semester_mapping = {'Odd': 0, 'Even': 1}\n",
    "specialized_mapping = {'General': 0, 'Specialized': 2, 'Basic' : 1}\n",
    "for i, lesson in enumerate(data['Lesson']):\n",
    "    numeric_data[i, 4] = instructor_mapping[data['Instructor'][i]]\n",
    "\n",
    "# Calculate distance matrix for each numeric attribute\n",
    "dist_matrices = {}\n",
    "for i in range(5):  \n",
    "    dist_matrix = np.zeros((num_data, num_data))\n",
    "    for row in range(num_data):\n",
    "        for col in range(row):\n",
    "            dist_matrix[row, col] = np.sqrt(np.sum((numeric_data[row, i] - numeric_data[col, i]) ** 2))\n",
    "    dist_matrices[i] = dist_matrix\n",
    "\n",
    "# Print distance matrix for each attribute\n",
    "for key, matrix in dist_matrices.items():\n",
    "    print(f\"Distance Matrix for Attribute {key+1}:\")\n",
    "    print(matrix)\n",
    "    print()"
   ]
  },
  {
   "cell_type": "code",
   "execution_count": 31,
   "metadata": {},
   "outputs": [
    {
     "name": "stdout",
     "output_type": "stream",
     "text": [
      "                             Lesson Semester_Passed  ECTS  \\\n",
      "0                English Language 2            Even     2   \n",
      "1                         Physics 2             Odd     3   \n",
      "2              Discrete Mathematics            Even     3   \n",
      "3  Electric and Electronic Circuits            Even     3   \n",
      "4                   Database Design             Odd     3   \n",
      "\n",
      "  Specialized_or_General_or_Basic Instructor  Total_ECTS_in_Semester  \\\n",
      "0                         General     Hajari                      14   \n",
      "1                         General     Salimi                      17   \n",
      "2                           Basic     Ahmadi                      20   \n",
      "3                     Specialized  Mohammadi                      14   \n",
      "4                     Specialized      Bidki                      20   \n",
      "\n",
      "   Days_for_Final_Test  Nth_Test_of_Semester Homework Quiz Passed  \\\n",
      "0                    2                     3      Yes   No    Yes   \n",
      "1                    1                     2      Yes  Yes    Yes   \n",
      "2                    1                     3      Yes  Yes    Yes   \n",
      "3                    2                     3      Yes  Yes    Yes   \n",
      "4                    0                     1      Yes  Yes    Yes   \n",
      "\n",
      "  Conditionally_Passed Grade  \n",
      "0                   No     A  \n",
      "1                   No     A  \n",
      "2                   No     A  \n",
      "3                   No     A  \n",
      "4                   No     B  \n"
     ]
    }
   ],
   "source": [
    "print(df)"
   ]
  },
  {
   "cell_type": "markdown",
   "metadata": {},
   "source": [
    "## 4)"
   ]
  },
  {
   "cell_type": "code",
   "execution_count": 30,
   "metadata": {},
   "outputs": [
    {
     "name": "stdout",
     "output_type": "stream",
     "text": [
      "Total Weighted Distance Matrix for Attribute 1:\n",
      "[[0.  0.  0.  0.  0. ]\n",
      " [0.1 0.  0.  0.  0. ]\n",
      " [0.1 0.  0.  0.  0. ]\n",
      " [0.1 0.  0.  0.  0. ]\n",
      " [0.1 0.  0.  0.  0. ]]\n",
      "\n",
      "Total Weighted Distance Matrix for Attribute 2:\n",
      "[[0.  0.  0.  0.  0. ]\n",
      " [1.5 0.  0.  0.  0. ]\n",
      " [3.  1.5 0.  0.  0. ]\n",
      " [0.  1.5 3.  0.  0. ]\n",
      " [3.  1.5 0.  3.  0. ]]\n",
      "\n",
      "Total Weighted Distance Matrix for Attribute 3:\n",
      "[[0.  0.  0.  0.  0. ]\n",
      " [0.3 0.  0.  0.  0. ]\n",
      " [0.3 0.  0.  0.  0. ]\n",
      " [0.  0.3 0.3 0.  0. ]\n",
      " [0.6 0.3 0.3 0.6 0. ]]\n",
      "\n",
      "Total Weighted Distance Matrix for Attribute 4:\n",
      "[[0.  0.  0.  0.  0. ]\n",
      " [0.5 0.  0.  0.  0. ]\n",
      " [0.  0.5 0.  0.  0. ]\n",
      " [0.  0.5 0.  0.  0. ]\n",
      " [1.  0.5 1.  1.  0. ]]\n",
      "\n",
      "Total Weighted Distance Matrix for Attribute 5:\n",
      "[[0.  0.  0.  0.  0. ]\n",
      " [0.5 0.  0.  0.  0. ]\n",
      " [0.5 1.  0.  0.  0. ]\n",
      " [1.  1.5 0.5 0.  0. ]\n",
      " [1.  0.5 1.5 2.  0. ]]\n",
      "\n"
     ]
    }
   ],
   "source": [
    "\n",
    "weights = np.array([0.1, 0.5, 0.3, 0.5, 0.5, 0.3, 0.1, 0.3, 0.1, 0.5, 0.3, 0.5]) \n",
    "\n",
    "# Calculate weighted distance matrix for each attribute\n",
    "weighted_dist_matrices = {}\n",
    "for key, matrix in dist_matrices.items():\n",
    "    weighted_dist_matrices[key] = matrix * weights[key]\n",
    "\n",
    "# Print total weighted distance matrix for each attribute\n",
    "for key, matrix in weighted_dist_matrices.items():\n",
    "    print(f\"Total Weighted Distance Matrix for Attribute {key+1}:\")\n",
    "    print(matrix)\n",
    "    print()\n"
   ]
  },
  {
   "cell_type": "markdown",
   "metadata": {},
   "source": [
    "## 5)\n",
    "نرمال سازی : Min-Max Normalization\n",
    "\n",
    "محاسبه فاصله بین داده ها : Euclidean Distance"
   ]
  }
 ],
 "metadata": {
  "kernelspec": {
   "display_name": "Python 3",
   "language": "python",
   "name": "python3"
  },
  "language_info": {
   "codemirror_mode": {
    "name": "ipython",
    "version": 3
   },
   "file_extension": ".py",
   "mimetype": "text/x-python",
   "name": "python",
   "nbconvert_exporter": "python",
   "pygments_lexer": "ipython3",
   "version": "3.10.5"
  }
 },
 "nbformat": 4,
 "nbformat_minor": 2
}
