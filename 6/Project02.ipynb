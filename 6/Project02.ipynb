{
 "cells": [
  {
   "cell_type": "markdown",
   "metadata": {},
   "source": [
    "# Practice 4"
   ]
  },
  {
   "cell_type": "markdown",
   "metadata": {},
   "source": [
    "<div dir=\"rtl\">\n",
    "    خب، حالا که هم شبکه های عصبی عادی و هم شبکه های عصبی کانولوشنی رو یاد گرفتید میخوایم بریم که چند تا شبکه ترین کنیم که ببینیم چه نتایجی رو کسب می کنیم"
   ]
  },
  {
   "cell_type": "markdown",
   "metadata": {},
   "source": [
    "# CIFAR Dataset"
   ]
  },
  {
   "cell_type": "markdown",
   "metadata": {},
   "source": [
    "<div dir=\"auto\">\n",
    "دیتاست cifar دو ورژن داره، cifar 10 و cifar 100 یه سرچ ریز بزنید ببینید تفاوتاشون چیه اصلا\n",
    "برای این که خیلیم دور نرید اینم لینکاش =)\n",
    "\n",
    "https://keras.io/api/datasets/cifar10/\n",
    "https://keras.io/api/datasets/cifar100/"
   ]
  },
  {
   "cell_type": "markdown",
   "metadata": {},
   "source": [
    "<div dir=\"auto\">\n",
    "    با استفاده از دستورات و دیتاست های موجود در keras \n",
    "    ابتدا دیتاست cifar10 رو لود کنید"
   ]
  },
  {
   "cell_type": "markdown",
   "metadata": {},
   "source": [
    "<div dir=\"auto\">\n",
    "    بعدش هم کتابخونه هایی که نیازتون میشه رو ایمپورت کنید، چیا هستن؟"
   ]
  },
  {
   "cell_type": "code",
   "execution_count": 13,
   "metadata": {
    "scrolled": true
   },
   "outputs": [],
   "source": [
    "import pandas as pd\n",
    "import numpy as np\n",
    "import matplotlib.pyplot as plt\n",
    "from tensorflow.keras.datasets import cifar10"
   ]
  },
  {
   "cell_type": "markdown",
   "metadata": {},
   "source": [
    "<div dir=\"auto\">\n",
    "    داده های تست و ترین رو به همراه لیبل هاشون لود کنید"
   ]
  },
  {
   "cell_type": "code",
   "execution_count": 14,
   "metadata": {},
   "outputs": [
    {
     "name": "stdout",
     "output_type": "stream",
     "text": [
      "Downloading data from https://www.cs.toronto.edu/~kriz/cifar-10-python.tar.gz\n"
     ]
    }
   ],
   "source": [
    "(x_train, y_train), (x_test, y_test) = cifar10.load_data()"
   ]
  },
  {
   "cell_type": "markdown",
   "metadata": {},
   "source": [
    "<div dir=\"auto\">\n",
    "    شيپ کلی دیتاستتون رو پرینت کنید که ببینید چه تعداد عکس ترین و چه تعداد عکس تست دارید همچنین شکل لیبل هاتون رو ببینید چطوریه"
   ]
  },
  {
   "cell_type": "code",
   "execution_count": null,
   "metadata": {},
   "outputs": [],
   "source": [
    "print(\"Training data shape:\", x_train.shape)\n",
    "print(\"Training labels shape:\", y_train.shape)\n",
    "print(\"Test data shape:\", x_test.shape)\n",
    "print(\"Test labels shape:\", y_test.shape)"
   ]
  },
  {
   "cell_type": "markdown",
   "metadata": {},
   "source": [
    "<div dir=\"auto\">\n",
    "    با استفاده از متپلات لیب ، یکی از عکس های دیتاستتون رو نمایش بدین که یه شکل کلی دستتون بیاد که دیتاستتون شامل چیا هستش"
   ]
  },
  {
   "cell_type": "code",
   "execution_count": null,
   "metadata": {},
   "outputs": [],
   "source": [
    "plt.imshow(x_train[0])\n",
    "plt.title(f\"Label: {y_train[0]}\")\n",
    "plt.show()"
   ]
  },
  {
   "cell_type": "markdown",
   "metadata": {},
   "source": [
    "# ANN"
   ]
  },
  {
   "cell_type": "markdown",
   "metadata": {},
   "source": [
    "<div dir=\"auto\">\n",
    "در این مرحله میخوایم که یک ANN \n",
    "    روی تصاویر دیتاست cifar فیت کنیم. منتهی قبلش نیاز داریم که چند تا کار انجام بدیم روی داده ها!"
   ]
  },
  {
   "cell_type": "markdown",
   "metadata": {},
   "source": [
    "<div dir=\"auto\">\n",
    "    اول از همه، روی خود تصاویر چه تغییری باید انجام بدیم؟ اولا میخوایم مقادیر پیکسل ها بین 0 تا 1 باشه بعدشم باید تصاویر طوری باشند که قابل ورودی دادن به شبکه ی ANN باشند\n",
    "    پس باید چیکار کنیم؟"
   ]
  },
  {
   "cell_type": "markdown",
   "metadata": {},
   "source": [
    "<div dir=\"auto\">\n",
    "    یه نکته ی خیلی مهم: داده هاتون رنگین! یعنی چی؟ یعنی 3 تا کانال دارن! یعنی چی؟ یعنی وقتی دارید شیپ هارو تغییر میدید بیشتر دقت کنید!"
   ]
  },
  {
   "cell_type": "code",
   "execution_count": null,
   "metadata": {
    "scrolled": true
   },
   "outputs": [],
   "source": [
    "\n",
    "x_train = x_train.astype('float32') / 255.0\n",
    "x_test = x_test.astype('float32') / 255.0\n",
    "\n",
    "x_train_final = x_train.reshape(x_train.shape[0], -1)\n",
    "x_test_final = x_test.reshape(x_test.shape[0], -1)\n",
    "\n",
    "print(\"Training data shape after preprocessing:\", x_train_final.shape)\n",
    "print(\"Test data shape after preprocessing:\", x_test_final.shape)"
   ]
  },
  {
   "cell_type": "markdown",
   "metadata": {},
   "source": [
    "<div dir=\"auto\">\n",
    "    برای این که مطمئن بشید که دیتاتون به اون صورتیه میخواید، شیپ هاشون رو پرینت بکنید"
   ]
  },
  {
   "cell_type": "code",
   "execution_count": null,
   "metadata": {},
   "outputs": [],
   "source": [
    "print(\"Original training data shape:\", x_train.shape)\n",
    "print(\"Original test data shape:\", x_test.shape)\n",
    "print(\"Training data shape after preprocessing:\", x_train_final.shape)\n",
    "print(\"Test data shape after preprocessing:\", x_test_final.shape)\n",
    "\n",
    "#Expected Output : \n",
    "# (50000,3072)\n",
    "# (10000,3072)"
   ]
  },
  {
   "cell_type": "markdown",
   "metadata": {},
   "source": [
    "<div dir=\"auto\">\n",
    "حالا باید فرمت لیبل ها به اون صورتی باشه که خروجی شبکه مون هست! یعنی 10 تایی\n",
    "پس با استفاده از تابع\n",
    "to_categorical\n",
    "از کراس لیبل های مطلوب رو بسازید"
   ]
  },
  {
   "cell_type": "code",
   "execution_count": null,
   "metadata": {},
   "outputs": [],
   "source": [
    "from keras.utils import to_categorical\n",
    "y_train_cat = to_categorical(y_train, 10)\n",
    "y_test_cat = to_categorical(y_test, 10)\n",
    "print(\"Training data shape after preprocessing:\", x_train_final.shape)\n",
    "print(\"Test data shape after preprocessing:\", x_test_final.shape)\n",
    "print(\"Training labels shape after to_categorical:\", y_train_cat.shape)\n",
    "print(\"Test labels shape after to_categorical:\", y_test_cat.shape)"
   ]
  },
  {
   "cell_type": "markdown",
   "metadata": {},
   "source": [
    "<div dir=\"auto\">\n",
    "حالا باید مدلتون رو بسازید\n",
    "اول از همه اون کلاس ها و توابع و لایه هایی که نیاز دارید رو ایمپورت کنید"
   ]
  },
  {
   "cell_type": "code",
   "execution_count": null,
   "metadata": {},
   "outputs": [],
   "source": [
    "from tensorflow.keras.models import Sequential\n",
    "from tensorflow.keras.layers import Dense, Flatten\n",
    "from tensorflow.keras.utils import to_categorical"
   ]
  },
  {
   "cell_type": "markdown",
   "metadata": {},
   "source": [
    "<div dir=\"auto\">\n",
    "حالا مدلتون رو بسازید\n",
    "\n",
    "    1. مدلتون رو به صورت Sequential بسازید\n",
    "    2. لایه ی اولیه رو لایه ی Input قرار بدید و شکل ورودی رو براش مشخص کنید\n",
    "    3. بعد لایه های Dense به به ترتیب با تعداد نود های 512و512و1024و10 قرار بدید و اکتیویشن های مناسب رو برای هر کدوم قرار بدید"
   ]
  },
  {
   "cell_type": "code",
   "execution_count": null,
   "metadata": {},
   "outputs": [],
   "source": [
    "model = Sequential()\n",
    "model.add(Input(shape=(3072,)))\n",
    "model.add(Dense(512, activation='relu'))\n",
    "model.add(Dense(512, activation='relu'))\n",
    "model.add(Dense(1024, activation='relu'))\n",
    "model.add(Dense(10, activation='softmax'))"
   ]
  },
  {
   "cell_type": "markdown",
   "metadata": {},
   "source": [
    "<div dir=\"auto\">\n",
    "مدلتون رو کامپایل کنید\n",
    "تابع هزینه تون رو categorical_crossentropy قرار بدید و از اپتیمایزر adam استفاده کنید\n",
    "    \n",
    "    همچنین از متریک accuracy استفاده کنید که نتایج شبکه تون براتون ملموس تر باشه"
   ]
  },
  {
   "cell_type": "code",
   "execution_count": null,
   "metadata": {},
   "outputs": [],
   "source": [
    "model.compile(loss='categorical_crossentropy',\n",
    "              optimizer='adam',\n",
    "              metrics=['accuracy'])"
   ]
  },
  {
   "cell_type": "markdown",
   "metadata": {},
   "source": [
    "<div dir=\"auto\">\n",
    "خلاصه ی مدلتون رو نگاه کنید\n",
    "چه تعداد پارامتر دارید؟"
   ]
  },
  {
   "cell_type": "code",
   "execution_count": null,
   "metadata": {
    "scrolled": true
   },
   "outputs": [],
   "source": [
    "model.summary()"
   ]
  },
  {
   "cell_type": "markdown",
   "metadata": {},
   "source": [
    "<div dir=\"auto\">\n",
    "مدلتون رو روی دیتاهایی که آماده کردید فیت کنید، از آرگومان های زیر استفاده کنید.\n",
    "batch_size = 128\n",
    "epochs = 30\n",
    "داده های ولیدیشن هم یادتون نره! شما میخواید نتیجه ی مدلتون روی دیتاست test خوب باشه پس اونم باید توی آموزش در نظر بگیرید"
   ]
  },
  {
   "cell_type": "code",
   "execution_count": null,
   "metadata": {},
   "outputs": [],
   "source": [
    "history = model.fit(x_train_final, y_train_cat, epochs=10, batch_size=32, validation_split=0.2)\n",
    "test_loss, test_accuracy = model.evaluate(x_test_final, y_test_cat)\n"
   ]
  },
  {
   "cell_type": "markdown",
   "metadata": {},
   "source": [
    "<div dir=\"auto\">\n",
    "    موفق باشید"
   ]
  },
  {
   "cell_type": "code",
   "execution_count": null,
   "metadata": {},
   "outputs": [],
   "source": [
    "print(f'Test loss: {test_loss}')\n",
    "print(f'Test accuracy: {test_accuracy}')"
   ]
  }
 ],
 "metadata": {
  "kernelspec": {
   "display_name": "Python 3 (ipykernel)",
   "language": "python",
   "name": "python3"
  },
  "language_info": {
   "codemirror_mode": {
    "name": "ipython",
    "version": 3
   },
   "file_extension": ".py",
   "mimetype": "text/x-python",
   "name": "python",
   "nbconvert_exporter": "python",
   "pygments_lexer": "ipython3",
   "version": "3.10.5"
  }
 },
 "nbformat": 4,
 "nbformat_minor": 4
}
